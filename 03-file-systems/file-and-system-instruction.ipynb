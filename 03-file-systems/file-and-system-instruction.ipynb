{
 "cells": [
  {
   "cell_type": "code",
   "execution_count": null,
   "metadata": {
    "trusted": true
   },
   "outputs": [],
   "source": [
    "import os\n",
    "import stat\n",
    "\n",
    "def create_example_txt():\n",
    "    content = \"\"\"This is an example text file.\n",
    "It contains multiple lines of text.\n",
    "Used for demonstrating file reading operations.\"\"\"\n",
    "    with open('example.txt', 'w') as file:\n",
    "        file.write(content)\n",
    "    print(\"Created 'example.txt' with sample content.\")\n",
    "\n",
    "def create_document_txt():\n",
    "    content = \"This is the content of document.txt used in copying and moving files.\"\n",
    "    with open('document.txt', 'w') as file:\n",
    "        file.write(content)\n",
    "    print(\"Created 'document.txt' with sample content.\")\n",
    "\n",
    "def create_secure_data_txt():\n",
    "    content = \"Sensitive information.\"\n",
    "    with open('secure_data.txt', 'w') as file:\n",
    "        file.write(content)\n",
    "    # Set file permissions to owner read/write only\n",
    "    os.chmod('secure_data.txt', stat.S_IRUSR | stat.S_IWUSR)\n",
    "    print(\"Created 'secure_data.txt' with restricted permissions.\")\n",
    "\n",
    "def create_downloads_directory():\n",
    "    os.makedirs('downloads', exist_ok=True)\n",
    "    extensions = ['txt', 'pdf', 'jpg', 'png', 'docx', 'xlsx', '']\n",
    "    for i, ext in enumerate(extensions, start=1):\n",
    "        filename = f'file{i}.{ext}' if ext else f'file{i}'\n",
    "        filepath = os.path.join('downloads', filename)\n",
    "        with open(filepath, 'w') as file:\n",
    "            file.write(f\"Sample content for {filename}\")\n",
    "    print(\"Created 'downloads' directory with sample files.\")\n",
    "\n",
    "def create_documents_directory():\n",
    "    os.makedirs('documents', exist_ok=True)\n",
    "    contents = [\n",
    "        (\"file1.txt\", \"This is a confidential document.\"),\n",
    "        (\"file2.txt\", \"This document contains public information.\"),\n",
    "        (\"file3.txt\", \"Another confidential report.\"),\n",
    "        (\"file4.txt\", \"General notes and reminders.\"),\n",
    "    ]\n",
    "    for filename, content in contents:\n",
    "        filepath = os.path.join('documents', filename)\n",
    "        with open(filepath, 'w') as file:\n",
    "            file.write(content)\n",
    "    print(\"Created 'documents' directory with sample text files.\")\n",
    "\n",
    "def create_temp_files_directory():\n",
    "    os.makedirs('temp_files', exist_ok=True)\n",
    "    temp_filenames = ['temp1.tmp', 'temp2.tmp', 'temp3.tmp']\n",
    "    for filename in temp_filenames:\n",
    "        filepath = os.path.join('temp_files', filename)\n",
    "        with open(filepath, 'w') as file:\n",
    "            file.write(\"Temporary data.\")\n",
    "    print(\"Created 'temp_files' directory with .tmp files.\")\n",
    "\n",
    "def create_application_log():\n",
    "    log_entries = [\n",
    "        \"2023-01-01 10:00:00 - Application started.\",\n",
    "        \"2023-01-01 10:05:00 - An error occurred.\",\n",
    "        \"2023-01-01 10:10:00 - Application stopped.\"\n",
    "    ]\n",
    "    with open('application.log', 'w') as file:\n",
    "        for entry in log_entries:\n",
    "            file.write(entry + '\\n')\n",
    "    print(\"Created 'application.log' with sample log entries.\")\n",
    "\n",
    "def setup_test_files():\n",
    "    directory = 'test_files'\n",
    "    os.makedirs(directory, exist_ok=True)\n",
    "    sample_files = ['file1.txt', 'file2.txt', 'file3.txt']\n",
    "    for filename in sample_files:\n",
    "        filepath = os.path.join(directory, filename)\n",
    "        with open(filepath, 'w') as file:\n",
    "            file.write(f\"Sample content for {filename}\")\n",
    "    print(f\"Created '{directory}' directory with sample .txt files.\")\n",
    "\n",
    "def main():\n",
    "    create_example_txt()\n",
    "    create_document_txt()\n",
    "    create_secure_data_txt()\n",
    "    create_downloads_directory()\n",
    "    create_documents_directory()\n",
    "    create_temp_files_directory()\n",
    "    create_application_log()\n",
    "    setup_test_files()\n",
    "    print(\"\\nAll necessary example files and directories have been created.\")\n",
    "\n",
    "if __name__ == \"__main__\":\n",
    "    main()\n"
   ]
  },
  {
   "cell_type": "code",
   "execution_count": null,
   "metadata": {
    "trusted": true
   },
   "outputs": [],
   "source": [
    "import os\n",
    "\n",
    "def create_directory(directory_name):\n",
    "    try:\n",
    "        os.makedirs(directory_name, exist_ok=True)\n",
    "        print(f\"Directory '{directory_name}' created successfully.\")\n",
    "    except Exception as e:\n",
    "        print(f\"An error occurred while creating directory '{directory_name}': {e}\")\n",
    "\n",
    "# Usage\n",
    "create_directory('new_folder')\n",
    "import os\n",
    "\n",
    "def create_nested_directories(base_dir, sub_dirs):\n",
    "    try:\n",
    "        for sub_dir in sub_dirs:\n",
    "            path = os.path.join(base_dir, sub_dir)\n",
    "            os.makedirs(path, exist_ok=True)\n",
    "            print(f\"Created directory: {path}\")\n",
    "    except Exception as e:\n",
    "        print(f\"An error occurred: {e}\")\n",
    "\n",
    "# Usage\n",
    "base_directory = 'projects'\n",
    "sub_directories = ['project1', 'project2', 'project3']\n",
    "create_nested_directories(base_directory, sub_directories)\n"
   ]
  },
  {
   "cell_type": "markdown",
   "metadata": {},
   "source": [
    "What is a Context Manager?\n",
    "A context manager is a Python construct that allows for the setup and teardown of resources automatically. It ensures that resources are properly acquired and released, even if errors occur during their use. Common resources managed by context managers include files, network connections, and locks.\n",
    "\n",
    "How Do Context Managers Work?\n",
    "Context managers define two essential methods:\n",
    "\n",
    "__enter__(): Acquired at the beginning of the with block. It sets up the resource and returns it.\n",
    "__exit__(): Invoked at the end of the with block, regardless of whether the block was exited normally or via an exception. It handles the teardown, such as closing a file.\n",
    "The with statement simplifies the use of these methods, providing a clean syntax for resource management."
   ]
  },
  {
   "cell_type": "code",
   "execution_count": null,
   "metadata": {
    "trusted": true
   },
   "outputs": [],
   "source": [
    "def create_and_write_file(file_name, content):\n",
    "    try:\n",
    "        with open(file_name, 'w') as file:\n",
    "            file.write(content)\n",
    "        print(f\"File '{file_name}' created and written successfully.\")\n",
    "    except Exception as e:\n",
    "        print(f\"An error occurred while creating or writing to '{file_name}': {e}\")\n",
    "\n",
    "# Usage\n",
    "file_name = 'sample.txt'\n",
    "content = 'Hello, this is a sample file.'\n",
    "create_and_write_file(file_name, content)\n"
   ]
  },
  {
   "cell_type": "code",
   "execution_count": null,
   "metadata": {
    "trusted": true
   },
   "outputs": [],
   "source": [
    "def write_multiple_lines(file_name, lines):\n",
    "    try:\n",
    "        with open(file_name, 'w') as file:\n",
    "            for line in lines:\n",
    "                file.write(line + '\\n')\n",
    "        print(f\"Multiple lines written to '{file_name}' successfully.\")\n",
    "    except Exception as e:\n",
    "        print(f\"An error occurred while writing to '{file_name}': {e}\")\n",
    "\n",
    "# Usage\n",
    "file_name = 'multi_line.txt'\n",
    "lines = [\n",
    "    'First line of text.',\n",
    "    'Second line of text.',\n",
    "    'Third line of text.'\n",
    "]\n",
    "write_multiple_lines(file_name, lines)\n"
   ]
  },
  {
   "cell_type": "code",
   "execution_count": null,
   "metadata": {
    "trusted": true
   },
   "outputs": [],
   "source": [
    "def read_entire_file(file_name):\n",
    "    try:\n",
    "        with open(file_name, 'r') as file:\n",
    "            content = file.read()\n",
    "        print(f\"Contents of '{file_name}':\\n{content}\")\n",
    "    except FileNotFoundError:\n",
    "        print(f\"File '{file_name}' not found.\")\n",
    "    except Exception as e:\n",
    "        print(f\"An error occurred while reading '{file_name}': {e}\")\n",
    "\n",
    "# Usage\n",
    "file_name = 'sample.txt'\n",
    "read_entire_file(file_name)\n"
   ]
  },
  {
   "cell_type": "code",
   "execution_count": null,
   "metadata": {
    "trusted": true
   },
   "outputs": [],
   "source": [
    "def read_file_line_by_line(file_name):\n",
    "    try:\n",
    "        with open(file_name, 'r') as file:\n",
    "            for line_number, line in enumerate(file, start=1):\n",
    "                print(f\"Line {line_number}: {line.strip()}\")\n",
    "    except FileNotFoundError:\n",
    "        print(f\"File '{file_name}' not found.\")\n",
    "    except Exception as e:\n",
    "        print(f\"An error occurred while reading '{file_name}': {e}\")\n",
    "\n",
    "# Usage\n",
    "file_name = 'multi_line.txt'\n",
    "read_file_line_by_line(file_name)\n"
   ]
  },
  {
   "cell_type": "code",
   "execution_count": null,
   "metadata": {
    "trusted": true
   },
   "outputs": [],
   "source": [
    "def append_single_line(file_name, line):\n",
    "    try:\n",
    "        with open(file_name, 'a') as file:\n",
    "            file.write(line + '\\n')\n",
    "        print(f\"Appended line to '{file_name}' successfully.\")\n",
    "    except Exception as e:\n",
    "        print(f\"An error occurred while appending to '{file_name}': {e}\")\n",
    "\n",
    "# Usage\n",
    "file_name = 'sample.txt'\n",
    "line_to_append = 'This line has been appended.'\n",
    "append_single_line(file_name, line_to_append)\n"
   ]
  },
  {
   "cell_type": "code",
   "execution_count": null,
   "metadata": {
    "trusted": true
   },
   "outputs": [],
   "source": [
    "def append_multiple_lines(file_name, lines):\n",
    "    try:\n",
    "        with open(file_name, 'a') as file:\n",
    "            for line in lines:\n",
    "                file.write(line + '\\n')\n",
    "        print(f\"Appended multiple lines to '{file_name}' successfully.\")\n",
    "    except Exception as e:\n",
    "        print(f\"An error occurred while appending to '{file_name}': {e}\")\n",
    "\n",
    "# Usage\n",
    "file_name = 'multi_line.txt'\n",
    "lines_to_append = [\n",
    "    'Fourth line of text.',\n",
    "    'Fifth line of text.'\n",
    "]\n",
    "append_multiple_lines(file_name, lines_to_append)\n"
   ]
  },
  {
   "cell_type": "code",
   "execution_count": null,
   "metadata": {
    "trusted": true
   },
   "outputs": [],
   "source": [
    "import shutil\n",
    "import os\n",
    "\n",
    "def copy_file(source, destination):\n",
    "    try:\n",
    "        shutil.copy(source, destination)\n",
    "        print(f\"Copied '{source}' to '{destination}'.\")\n",
    "    except FileNotFoundError:\n",
    "        print(f\"Source file '{source}' not found.\")\n",
    "    except Exception as e:\n",
    "        print(f\"An error occurred while copying: {e}\")\n",
    "\n",
    "# Usage\n",
    "source_file = 'sample.txt'\n",
    "destination_file = 'copy_of_sample.txt'\n",
    "copy_file(source_file, destination_file)\n"
   ]
  },
  {
   "cell_type": "code",
   "execution_count": null,
   "metadata": {
    "trusted": true
   },
   "outputs": [],
   "source": [
    "import shutil\n",
    "import os\n",
    "\n",
    "def move_file(source, destination_directory):\n",
    "    try:\n",
    "        if not os.path.exists(destination_directory):\n",
    "            os.makedirs(destination_directory)\n",
    "        shutil.move(source, destination_directory)\n",
    "        print(f\"Moved '{source}' to '{destination_directory}'.\")\n",
    "    except FileNotFoundError:\n",
    "        print(f\"Source file '{source}' not found.\")\n",
    "    except Exception as e:\n",
    "        print(f\"An error occurred while moving: {e}\")\n",
    "\n",
    "# Usage\n",
    "source_file = 'copy_of_sample.txt'\n",
    "destination_dir = 'backup'\n",
    "move_file(source_file, destination_dir)\n"
   ]
  },
  {
   "cell_type": "code",
   "execution_count": null,
   "metadata": {
    "trusted": true
   },
   "outputs": [],
   "source": [
    "import os\n",
    "import shutil\n",
    "\n",
    "def organize_files_by_extension(directory):\n",
    "    try:\n",
    "        for filename in os.listdir(directory):\n",
    "            file_path = os.path.join(directory, filename)\n",
    "            if os.path.isfile(file_path):\n",
    "                _, extension = os.path.splitext(filename)\n",
    "                extension = extension[1:].lower()  # Remove the dot and convert to lowercase\n",
    "                if not extension:\n",
    "                    extension = 'no_extension'\n",
    "                destination_folder = os.path.join(directory, extension)\n",
    "                if not os.path.exists(destination_folder):\n",
    "                    os.makedirs(destination_folder)\n",
    "                shutil.move(file_path, destination_folder)\n",
    "                print(f\"Moved '{filename}' to '{destination_folder}'.\")\n",
    "    except FileNotFoundError:\n",
    "        print(f\"Directory '{directory}' not found.\")\n",
    "    except Exception as e:\n",
    "        print(f\"An error occurred while organizing files: {e}\")\n",
    "\n",
    "# Usage\n",
    "target_directory = 'downloads'\n",
    "organize_files_by_extension(target_directory)\n"
   ]
  },
  {
   "cell_type": "code",
   "execution_count": null,
   "metadata": {
    "trusted": true
   },
   "outputs": [],
   "source": [
    "import os\n",
    "\n",
    "def delete_file(file_path):\n",
    "    try:\n",
    "        if os.path.exists(file_path):\n",
    "            os.remove(file_path)\n",
    "            print(f\"Deleted file: '{file_path}'.\")\n",
    "        else:\n",
    "            print(f\"File '{file_path}' does not exist.\")\n",
    "    except Exception as e:\n",
    "        print(f\"An error occurred while deleting '{file_path}': {e}\")\n",
    "\n",
    "# Usage\n",
    "file_to_delete = 'output.txt'\n",
    "delete_file(file_to_delete)\n"
   ]
  },
  {
   "cell_type": "code",
   "execution_count": null,
   "metadata": {
    "trusted": true
   },
   "outputs": [],
   "source": [
    "import shutil\n",
    "import os\n",
    "\n",
    "def delete_directory(directory_path):\n",
    "    try:\n",
    "        if os.path.exists(directory_path):\n",
    "            shutil.rmtree(directory_path)\n",
    "            print(f\"Deleted directory: '{directory_path}'.\")\n",
    "        else:\n",
    "            print(f\"Directory '{directory_path}' does not exist.\")\n",
    "    except Exception as e:\n",
    "        print(f\"An error occurred while deleting directory '{directory_path}': {e}\")\n",
    "\n",
    "# Usage\n",
    "directory_to_delete = 'backup'\n",
    "delete_directory(directory_to_delete)\n"
   ]
  },
  {
   "cell_type": "code",
   "execution_count": null,
   "metadata": {
    "trusted": true
   },
   "outputs": [],
   "source": [
    "import os\n",
    "import stat\n",
    "\n",
    "def set_file_permissions(file_path, permissions):\n",
    "    try:\n",
    "        os.chmod(file_path, permissions)\n",
    "        print(f\"Set permissions for '{file_path}' to '{oct(permissions)}'.\")\n",
    "    except FileNotFoundError:\n",
    "        print(f\"File '{file_path}' not found.\")\n",
    "    except Exception as e:\n",
    "        print(f\"An error occurred while setting permissions for '{file_path}': {e}\")\n",
    "\n",
    "# Usage\n",
    "file_path = 'secure_data.txt'\n",
    "# Set permissions to read and write for the owner only\n",
    "permissions = stat.S_IRUSR | stat.S_IWUSR\n",
    "set_file_permissions(file_path, permissions)\n"
   ]
  },
  {
   "cell_type": "code",
   "execution_count": null,
   "metadata": {
    "trusted": true
   },
   "outputs": [],
   "source": [
    "import os\n",
    "\n",
    "def batch_rename_files(directory, current_ext, new_ext):\n",
    "    try:\n",
    "        for filename in os.listdir(directory):\n",
    "            if filename.endswith(current_ext):\n",
    "                base = os.path.splitext(filename)[0]\n",
    "                new_filename = base + new_ext\n",
    "                os.rename(\n",
    "                    os.path.join(directory, filename),\n",
    "                    os.path.join(directory, new_filename)\n",
    "                )\n",
    "                print(f\"Renamed '{filename}' to '{new_filename}'.\")\n",
    "    except FileNotFoundError:\n",
    "        print(f\"Directory '{directory}' not found.\")\n",
    "    except Exception as e:\n",
    "        print(f\"An error occurred during batch renaming: {e}\")\n",
    "\n",
    "# Usage\n",
    "directory = 'test_files'\n",
    "current_extension = '.txt'\n",
    "new_extension = '.bak'\n",
    "batch_rename_files(directory, current_extension, new_extension)\n"
   ]
  },
  {
   "cell_type": "code",
   "execution_count": null,
   "metadata": {
    "trusted": true
   },
   "outputs": [],
   "source": [
    "def search_keyword_in_files(directory, keyword):\n",
    "    try:\n",
    "        for filename in os.listdir(directory):\n",
    "            if filename.endswith('.txt'):\n",
    "                file_path = os.path.join(directory, filename)\n",
    "                with open(file_path, 'r', encoding='utf-8') as file:\n",
    "                    content = file.read()\n",
    "                    if keyword.lower() in content.lower():\n",
    "                        print(f\"Keyword '{keyword}' found in '{filename}'.\")\n",
    "    except FileNotFoundError:\n",
    "        print(f\"Directory '{directory}' not found.\")\n",
    "    except Exception as e:\n",
    "        print(f\"An error occurred while searching files: {e}\")\n",
    "\n",
    "# Usage\n",
    "directory = 'documents'\n",
    "keyword = 'confidential'\n",
    "search_keyword_in_files(directory, keyword)\n"
   ]
  },
  {
   "cell_type": "code",
   "execution_count": null,
   "metadata": {
    "trusted": true
   },
   "outputs": [],
   "source": [
    "import os\n",
    "import stat\n",
    "\n",
    "def create_secure_file(file_path, data):\n",
    "    try:\n",
    "        with open(file_path, 'w') as file:\n",
    "            file.write(data)\n",
    "        os.chmod(file_path, stat.S_IRUSR | stat.S_IWUSR)  # Owner can read and write\n",
    "        print(f\"Secure file '{file_path}' created with restricted permissions.\")\n",
    "    except Exception as e:\n",
    "        print(f\"An error occurred while creating secure file '{file_path}': {e}\")\n",
    "\n",
    "# Usage\n",
    "file_path = 'secure_data.txt'\n",
    "data = 'Sensitive information.'\n",
    "create_secure_file(file_path, data)\n"
   ]
  },
  {
   "cell_type": "code",
   "execution_count": null,
   "metadata": {
    "trusted": true
   },
   "outputs": [],
   "source": [
    "import os\n",
    "import shutil\n",
    "\n",
    "def remove_file(file_path):\n",
    "    try:\n",
    "        if os.path.exists(file_path):\n",
    "            os.remove(file_path)\n",
    "            print(f\"Deleted file: '{file_path}'.\")\n",
    "        else:\n",
    "            print(f\"File '{file_path}' does not exist.\")\n",
    "    except Exception as e:\n",
    "        print(f\"An error occurred while deleting '{file_path}': {e}\")\n",
    "\n",
    "def remove_directory(directory_path):\n",
    "    try:\n",
    "        if os.path.exists(directory_path):\n",
    "            shutil.rmtree(directory_path)\n",
    "            print(f\"Deleted directory: '{directory_path}'.\")\n",
    "        else:\n",
    "            print(f\"Directory '{directory_path}' does not exist.\")\n",
    "    except Exception as e:\n",
    "        print(f\"An error occurred while deleting directory '{directory_path}': {e}\")\n",
    "\n",
    "def main():\n",
    "    # Files to remove\n",
    "    files = [\n",
    "        'sample.txt',\n",
    "        'multi_line.txt',\n",
    "        'copy_of_sample.txt',\n",
    "        'output.txt',\n",
    "        'backup_document.txt',\n",
    "        'secure_data.txt'\n",
    "    ]\n",
    "    \n",
    "    # Directories to remove\n",
    "    directories = [\n",
    "        'new_folder',\n",
    "        'projects',\n",
    "        'backup',\n",
    "        'downloads',\n",
    "        'documents',\n",
    "        'test_files'\n",
    "    ]\n",
    "    \n",
    "    for file in files:\n",
    "        remove_file(file)\n",
    "    \n",
    "    for directory in directories:\n",
    "        remove_directory(directory)\n",
    "    \n",
    "    print(\"\\nCleanup completed. All specified files and directories have been removed.\")\n",
    "\n",
    "if __name__ == \"__main__\":\n",
    "    main()\n"
   ]
  },
  {
   "cell_type": "code",
   "execution_count": null,
   "metadata": {
    "trusted": true
   },
   "outputs": [],
   "source": []
  }
 ],
 "metadata": {
  "kernelspec": {
   "display_name": "Python (Pyodide)",
   "language": "python",
   "name": "python"
  },
  "language_info": {
   "codemirror_mode": {
    "name": "python",
    "version": 3
   },
   "file_extension": ".py",
   "mimetype": "text/x-python",
   "name": "python",
   "nbconvert_exporter": "python",
   "pygments_lexer": "ipython3",
   "version": "3.8"
  }
 },
 "nbformat": 4,
 "nbformat_minor": 4
}
