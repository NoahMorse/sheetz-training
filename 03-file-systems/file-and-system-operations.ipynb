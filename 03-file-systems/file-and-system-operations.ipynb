{
 "cells": [
  {
   "cell_type": "code",
   "execution_count": null,
   "metadata": {
    "trusted": true
   },
   "outputs": [],
   "source": [
    "#Setup Script\n",
    "import os\n",
    "import shutil\n",
    "import stat\n",
    "\n",
    "def create_example_txt():\n",
    "    content = \"\"\"This is an example text file.\n",
    "It contains multiple lines of text.\n",
    "Used for demonstrating file reading operations.\"\"\"\n",
    "    with open('example.txt', 'w') as file:\n",
    "        file.write(content)\n",
    "    print(\"Created 'example.txt' with sample content.\")\n",
    "\n",
    "def create_document_txt():\n",
    "    content = \"This is the content of document.txt used in copying and moving files.\"\n",
    "    with open('document.txt', 'w') as file:\n",
    "        file.write(content)\n",
    "    print(\"Created 'document.txt' with sample content.\")\n",
    "\n",
    "def create_secure_data_txt():\n",
    "    content = \"Sensitive information.\"\n",
    "    with open('secure_data.txt', 'w') as file:\n",
    "        file.write(content)\n",
    "    # Set file permissions to owner read/write only\n",
    "    os.chmod('secure_data.txt', stat.S_IRUSR | stat.S_IWUSR)\n",
    "    print(\"Created 'secure_data.txt' with restricted permissions.\")\n",
    "\n",
    "def create_downloads_directory():\n",
    "    os.makedirs('downloads', exist_ok=True)\n",
    "    extensions = ['txt', 'pdf', 'jpg', 'png', 'docx', 'xlsx', '']\n",
    "    for i, ext in enumerate(extensions, start=1):\n",
    "        filename = f'file{i}.{ext}' if ext else f'file{i}'\n",
    "        filepath = os.path.join('downloads', filename)\n",
    "        with open(filepath, 'w') as file:\n",
    "            file.write(f\"Sample content for {filename}\")\n",
    "    print(\"Created 'downloads' directory with sample files.\")\n",
    "\n",
    "def create_documents_directory():\n",
    "    os.makedirs('documents', exist_ok=True)\n",
    "    contents = [\n",
    "        (\"file1.txt\", \"This is a confidential document.\"),\n",
    "        (\"file2.txt\", \"This document contains public information.\"),\n",
    "        (\"file3.txt\", \"Another confidential report.\"),\n",
    "        (\"file4.txt\", \"General notes and reminders.\"),\n",
    "    ]\n",
    "    for filename, content in contents:\n",
    "        filepath = os.path.join('documents', filename)\n",
    "        with open(filepath, 'w') as file:\n",
    "            file.write(content)\n",
    "    print(\"Created 'documents' directory with sample text files.\")\n",
    "\n",
    "def create_temp_files_directory():\n",
    "    os.makedirs('temp_files', exist_ok=True)\n",
    "    temp_filenames = ['temp1.tmp', 'temp2.tmp', 'temp3.tmp']\n",
    "    for filename in temp_filenames:\n",
    "        filepath = os.path.join('temp_files', filename)\n",
    "        with open(filepath, 'w') as file:\n",
    "            file.write(\"Temporary data.\")\n",
    "    print(\"Created 'temp_files' directory with .tmp files.\")\n",
    "\n",
    "def create_application_log():\n",
    "    log_entries = [\n",
    "        \"2023-01-01 10:00:00 - Application started.\",\n",
    "        \"2023-01-01 10:05:00 - An error occurred.\",\n",
    "        \"2023-01-01 10:10:00 - Application stopped.\"\n",
    "    ]\n",
    "    with open('application.log', 'w') as file:\n",
    "        for entry in log_entries:\n",
    "            file.write(entry + '\\n')\n",
    "    print(\"Created 'application.log' with sample log entries.\")\n",
    "\n",
    "def setup_test_files():\n",
    "    directory = 'test_files'\n",
    "    os.makedirs(directory, exist_ok=True)\n",
    "    sample_files = ['file1.txt', 'file2.txt', 'file3.txt']\n",
    "    for filename in sample_files:\n",
    "        filepath = os.path.join(directory, filename)\n",
    "        with open(filepath, 'w') as file:\n",
    "            file.write(f\"Sample content for {filename}\")\n",
    "    print(f\"Created '{directory}' directory with sample .txt files.\")\n",
    "\n",
    "def main():\n",
    "    create_example_txt()\n",
    "    create_document_txt()\n",
    "    create_secure_data_txt()\n",
    "    create_downloads_directory()\n",
    "    create_documents_directory()\n",
    "    create_temp_files_directory()\n",
    "    create_application_log()\n",
    "    setup_test_files()\n",
    "    create_safe_directory()\n",
    "    print(\"\\nAll necessary example files and directories have been created.\")\n",
    "\n",
    "if __name__ == \"__main__\":\n",
    "    main()\n",
    "\n",
    "\n"
   ]
  },
  {
   "cell_type": "code",
   "execution_count": null,
   "metadata": {
    "trusted": true
   },
   "outputs": [],
   "source": [
    "#Read File Content\n",
    "def read_file_contents(file_path):\n",
    "    # Step 1: Open the file in read mode using a context manager\n",
    "    # Step 2: Read the entire content of the file\n",
    "    # Step 3: Return the content read from the file\n",
    "    return content\n",
    "\n",
    "# Usage\n",
    "file_path = 'example.txt'\n",
    "file_content = read_file_contents(file_path)\n",
    "print(file_content)\n"
   ]
  },
  {
   "cell_type": "code",
   "execution_count": null,
   "metadata": {
    "trusted": true
   },
   "outputs": [],
   "source": [
    "# Read file by lines\n",
    "def read_file_lines(file_path):\n",
    "    # Step 1: Open the file in read mode using a context manager\n",
    "    # Step 2: Iterate over each line in the file with line numbers\n",
    "    # Step 3: Print the line number and the line content without trailing whitespace\n",
    "\n",
    "# Usage\n",
    "file_path = 'example.txt'\n",
    "read_file_lines(file_path)\n",
    "\n"
   ]
  },
  {
   "cell_type": "code",
   "execution_count": null,
   "metadata": {
    "trusted": true
   },
   "outputs": [],
   "source": [
    "# Write data to file\n",
    "def write_data_to_file(file_path, data):\n",
    "    # Step 1: Open the file in write mode using a context manager\n",
    "    # Step 2: Write the data to the file\n",
    "\n",
    "# Usage\n",
    "file_path = 'output.txt'\n",
    "data_to_write = 'This is some sample text to be written to the file.'\n",
    "write_data_to_file(file_path, data_to_write)\n",
    "print(f\"Data has been written to {file_path}\")\n",
    "file_content = read_file_contents(file_path)\n",
    "print(file_content)\n"
   ]
  },
  {
   "cell_type": "code",
   "execution_count": null,
   "metadata": {
    "trusted": true
   },
   "outputs": [],
   "source": [
    "# Append data to file\n",
    "import datetime\n",
    "\n",
    "def append_log_entry(log_file, message):\n",
    "    timestamp = datetime.datetime.now().strftime('%Y-%m-%d %H:%M:%S')\n",
    "    # Step 1: Open the log file in append mode using a context manager\n",
    "    # Step 2: Write the timestamp and message to the file (f\"{timestamp} - {message}\\n\")\n",
    "\n",
    "# Usage\n",
    "log_file = 'application.log'\n",
    "append_log_entry(log_file, 'Application started.')\n",
    "append_log_entry(log_file, 'An error occurred.')\n",
    "print(f\"Log entries have been added to {log_file}\")\n",
    "file_content = read_file_contents(log_file)\n",
    "print(file_content)"
   ]
  },
  {
   "cell_type": "code",
   "execution_count": null,
   "metadata": {
    "trusted": true
   },
   "outputs": [],
   "source": [
    "# Copy and move\n",
    "import shutil\n",
    "import os\n",
    "\n",
    "def copy_and_move_file(source_path, destination_directory):\n",
    "    # Step 1: Check if the destination directory exists\n",
    "    # Step 2: If it doesn't exist, create the destination directory\n",
    "    # Step 3: Copy the source file to the destination directory\n",
    "    # Step 4: Print a confirmation message\n",
    "\n",
    "# Usage\n",
    "source_file = 'document.txt'\n",
    "destination_dir = 'backup'\n",
    "copy_and_move_file(source_file, destination_dir)"
   ]
  },
  {
   "cell_type": "code",
   "execution_count": null,
   "metadata": {
    "trusted": true
   },
   "outputs": [],
   "source": [
    "#Delete files\n",
    "import os\n",
    "\n",
    "def delete_temp_files(directory):\n",
    "    for filename in os.listdir(directory):\n",
    "        if filename.endswith('.tmp'):\n",
    "            # Step 1: Create the full file path by joining the directory and filename\n",
    "            # Step 2: Remove the file at the file path\n",
    "            # Step 3: Print a confirmation message\n",
    "\n",
    "# Usage\n",
    "target_directory = 'temp_files'\n",
    "delete_temp_files(target_directory)\n"
   ]
  },
  {
   "cell_type": "code",
   "execution_count": null,
   "metadata": {
    "trusted": true
   },
   "outputs": [],
   "source": [
    "# Secure Delete\n",
    "import os\n",
    "\n",
    "def secure_delete(file_path):\n",
    "    try:\n",
    "        if os.path.exists(file_path):\n",
    "            # Overwrite the file with zeros before deletion\n",
    "            # Step 1: Open the file in binary append mode with buffering set to 0\n",
    "            # Step 2: Get the length of the file\n",
    "            # Step 3: Seek to the beginning of the file\n",
    "            # Step 4: Write zeros to overwrite the file content\n",
    "            # Step 5: Close the file\n",
    "            print(f\"Securely deleted {file_path}\")\n",
    "        else:\n",
    "            print(f\"File {file_path} does not exist.\")\n",
    "    except PermissionError:\n",
    "        print(f\"Permission denied when trying to delete {file_path}.\")\n",
    "    except Exception as e:\n",
    "        print(f\"An error occurred: {e}\")\n",
    "\n",
    "# Example usage\n",
    "secure_delete('secure_data.txt')\n"
   ]
  },
  {
   "cell_type": "code",
   "execution_count": null,
   "metadata": {
    "trusted": true
   },
   "outputs": [],
   "source": [
    "#Batch work\n",
    "import os\n",
    "\n",
    "def batch_rename(directory, current_ext, new_ext):\n",
    "    for filename in os.listdir(directory):\n",
    "        if filename.endswith(current_ext):\n",
    "            # Step 1: Split the filename and its extension\n",
    "            # Step 2: Create the new filename by replacing the extension\n",
    "            # Step 3: Rename the file with the new filename\n",
    "            print(f\"Renamed {filename} to {new_name}\")\n",
    "\n",
    "target_directory = 'test_files'\n",
    "batch_rename(target_directory, '.txt', '.bak')\n"
   ]
  },
  {
   "cell_type": "code",
   "execution_count": null,
   "metadata": {
    "trusted": true
   },
   "outputs": [],
   "source": [
    "#Find content in files\n",
    "def find_files_with_keyword(directory, keyword):\n",
    "    for filename in os.listdir(directory):\n",
    "        if filename.endswith('.txt'):\n",
    "            file_path = os.path.join(directory, filename)\n",
    "            with open(file_path, 'r', encoding='utf-8') as file:\n",
    "                # Step 1: Read the content of the file\n",
    "                # Step 2: Check if the keyword is in the content\n",
    "                # Step 3: Print a message if the keyword is found\n",
    "\n",
    "# Usage\n",
    "search_directory = 'documents'\n",
    "search_keyword = 'confidential'\n",
    "find_files_with_keyword(search_directory, search_keyword)\n"
   ]
  },
  {
   "cell_type": "code",
   "execution_count": null,
   "metadata": {
    "trusted": true
   },
   "outputs": [],
   "source": [
    "#File Permisssions\n",
    "import os\n",
    "import stat\n",
    "\n",
    "def create_secure_file(file_path, data):\n",
    "    with open(file_path, 'w') as file:\n",
    "        file.write(data)\n",
    "    # Step 1: Change the file permissions to allow only the owner to read and write\n",
    "    # Step 2: Use os.chmod with stat constants to set the permissions\n",
    "    print(f\"Secure file created at {file_path}\")\n",
    "\n",
    "# Usage\n",
    "secure_file_path = 'secure_data.txt'\n",
    "secure_data = 'Sensitive information.'\n",
    "create_secure_file(secure_file_path, secure_data)\n"
   ]
  },
  {
   "cell_type": "code",
   "execution_count": null,
   "metadata": {
    "trusted": true
   },
   "outputs": [],
   "source": [
    "#Cleanup script\n",
    "import os\n",
    "import shutil\n",
    "\n",
    "def remove_file(filepath):\n",
    "    if os.path.exists(filepath):\n",
    "        os.remove(filepath)\n",
    "        print(f\"Deleted file: {filepath}\")\n",
    "    else:\n",
    "        print(f\"File not found: {filepath}\")\n",
    "\n",
    "def remove_directory(directory):\n",
    "    if os.path.exists(directory):\n",
    "        shutil.rmtree(directory)\n",
    "        print(f\"Deleted directory: {directory}\")\n",
    "    else:\n",
    "        print(f\"Directory not found: {directory}\")\n",
    "\n",
    "def main():\n",
    "    # Remove files\n",
    "    remove_file('example.txt')\n",
    "    remove_file('document.txt')\n",
    "    remove_file('secure_data.txt')  # Added this line to remove 'secure_data.txt'\n",
    "    remove_file('application.log')\n",
    "\n",
    "    # Remove directories\n",
    "    remove_directory('downloads')\n",
    "    remove_directory('documents')\n",
    "    remove_directory('temp_files')\n",
    "    remove_directory('test_files')\n",
    "    print(\"\\nAll example files and directories have been removed.\")\n",
    "\n",
    "if __name__ == \"__main__\":\n",
    "    main()\n"
   ]
  },
  {
   "cell_type": "code",
   "execution_count": null,
   "metadata": {
    "trusted": true
   },
   "outputs": [],
   "source": []
  }
 ],
 "metadata": {
  "kernelspec": {
   "display_name": "Python (Pyodide)",
   "language": "python",
   "name": "python"
  },
  "language_info": {
   "codemirror_mode": {
    "name": "python",
    "version": 3
   },
   "file_extension": ".py",
   "mimetype": "text/x-python",
   "name": "python",
   "nbconvert_exporter": "python",
   "pygments_lexer": "ipython3",
   "version": "3.8"
  }
 },
 "nbformat": 4,
 "nbformat_minor": 4
}
