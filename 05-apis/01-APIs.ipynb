{
 "cells": [
  {
   "cell_type": "markdown",
   "metadata": {},
   "source": [
    "# Introduction to APIs (Application Programming Interfaces)\n",
    "\n",
    "### Overview\n",
    "An API (Application Programming Interface) is a set of rules and protocols that allows different software applications to communicate with each other. APIs define the methods and data formats that applications can use to request and exchange information.\n",
    "\n",
    "### Key Concepts\n",
    "\n",
    "- **Endpoints**: Specific URLs provided by the API where requests can be made.\n",
    "- **Requests**: The act of asking for data or performing an action via the API.\n",
    "- **Responses**: The data or result returned by the API after processing a request.\n",
    "- **HTTP Methods**: Common methods include GET (retrieve data), POST (submit data), PUT (update data), and DELETE (remove data).\n",
    "- **Authentication**: Mechanisms to verify the identity of the user or application making the request, such as API keys, OAuth tokens, or JWTs.\n",
    "- **REST**: The architecture style of most modern APIs\n",
    "- **Methods**: GET, POST, PUT, DELETE\n",
    "\n",
    "[Python Request Package](https://requests.readthedocs.io/en/latest/user/quickstart/#make-a-request)"
   ]
  },
  {
   "cell_type": "code",
   "execution_count": null,
   "metadata": {},
   "outputs": [],
   "source": [
    "# pip install requests\n",
    "import requests\n",
    "\n",
    "# Making a request to an HTML page\n",
    "r = requests.get(\"https://httpbin.org/html\")\n",
    "print(r)\n",
    "print(type(r))\n",
    "print(r.status_code)\n",
    "print()\n",
    "print(r.text)"
   ]
  },
  {
   "cell_type": "code",
   "execution_count": null,
   "metadata": {},
   "outputs": [],
   "source": [
    "# Gets are used to request data from a specified resource\n",
    "from pprint import pprint\n",
    "r = requests.get(\"https://httpbin.org/get\")\n",
    "print(r)\n",
    "pprint(r.json())"
   ]
  },
  {
   "cell_type": "code",
   "execution_count": null,
   "metadata": {},
   "outputs": [],
   "source": [
    "# Posts are used to send data to a server\n",
    "r = requests.post(\"https://httpbin.org/post\", data={\"user\": \"alice\"})\n",
    "pprint(r.json())"
   ]
  },
  {
   "cell_type": "code",
   "execution_count": null,
   "metadata": {},
   "outputs": [],
   "source": [
    "# Puts are used to update data\n",
    "r = requests.put(\"https://httpbin.org/put\", data={\"user\": \"bob\"})\n",
    "pprint(r.json())"
   ]
  },
  {
   "cell_type": "code",
   "execution_count": null,
   "metadata": {},
   "outputs": [],
   "source": [
    "r = requests.delete(\"https://httpbin.org/delete\")\n",
    "pprint(r.json())"
   ]
  },
  {
   "cell_type": "code",
   "execution_count": null,
   "metadata": {},
   "outputs": [],
   "source": [
    "# Paramters with get requests\n",
    "payload = {\"key1\": \"value1\", \"key2\": \"value2\"}\n",
    "r = requests.get(\"https://httpbin.org/get\", params=payload)\n",
    "print(r)\n",
    "print(r.url)\n",
    "pprint(r.json())"
   ]
  },
  {
   "cell_type": "code",
   "execution_count": null,
   "metadata": {},
   "outputs": [],
   "source": [
    "# Custom headers\n",
    "headers = {\"Authorization\":\"Bearer 123\"}\n",
    "r = requests.get(\"https://httpbin.org/get\", headers=headers)\n",
    "pprint(r.json())\n",
    "print()\n",
    "print(r.headers)"
   ]
  },
  {
   "cell_type": "code",
   "execution_count": null,
   "metadata": {},
   "outputs": [],
   "source": [
    "# Authorization\n",
    "from requests.auth import HTTPBasicAuth\n",
    "\n",
    "r = requests.get('https://httpbin.org/basic-auth/user/pass', auth=HTTPBasicAuth('user', 'pass'))\n",
    "print(r)\n",
    "print(r.json())"
   ]
  },
  {
   "cell_type": "code",
   "execution_count": null,
   "metadata": {},
   "outputs": [],
   "source": [
    "# JWTs\n"
   ]
  },
  {
   "cell_type": "code",
   "execution_count": null,
   "metadata": {},
   "outputs": [],
   "source": [
    "# AbuseIPDB example"
   ]
  }
 ],
 "metadata": {
  "kernelspec": {
   "display_name": ".venv",
   "language": "python",
   "name": "python3"
  },
  "language_info": {
   "codemirror_mode": {
    "name": "ipython",
    "version": 3
   },
   "file_extension": ".py",
   "mimetype": "text/x-python",
   "name": "python",
   "nbconvert_exporter": "python",
   "pygments_lexer": "ipython3",
   "version": "3.13.0"
  }
 },
 "nbformat": 4,
 "nbformat_minor": 2
}
