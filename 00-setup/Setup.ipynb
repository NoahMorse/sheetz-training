{
 "cells": [
  {
   "cell_type": "markdown",
   "metadata": {},
   "source": [
    "# Terminology\n",
    "\n",
    "- **IDE** - Integrated Development Environment\n",
    "- **Python Interpreter** - Translates Python code to machine readable code at run time. Has an **interactive** and a **script** mode. \n",
    "- **IDLE** - Integrated Development and Learning Environment\n",
    "- **IDLE Shell** - Python Interactive Interpreter\n",
    "- **Virtual environment** - Lightweight independent environment containing python packages and dependencies"
   ]
  },
  {
   "cell_type": "markdown",
   "metadata": {},
   "source": [
    "# Tools\n",
    "\n",
    "- **Spyder** - An IDE for Python Development\n",
    "  - **Editor**\n",
    "  - **Debugger**\n",
    "  - **Console / Interactive Shell**\n",
    "  - **Variable Explorer**\n",
    "\n",
    "- **Jupyter Notebooks**\n",
    "  - A web-based application that can run individual snippets (cells) of Python"
   ]
  },
  {
   "cell_type": "markdown",
   "metadata": {},
   "source": [
    "## Prerequisites\n",
    "\n",
    "You will need to install:\n",
    "\n",
    "1. The latest version of Python 3.\n",
    "2. Spyder IDE\n",
    "3. Git\n",
    "4. Chome or Firefox (To run Jupyter Lab)"
   ]
  },
  {
   "cell_type": "markdown",
   "metadata": {},
   "source": [
    "# Getting Started\n",
    "1. Clone the [secure-python-training](https://github.com/NoahMorse/secure-python-training) repository.\n",
    "2. Navigate to [Jupyter Labs](https://jupyter.org/try-jupyter/lab/).\n",
    "3. Upload the first exercise file."
   ]
  }
 ],
 "metadata": {
  "language_info": {
   "name": "python"
  }
 },
 "nbformat": 4,
 "nbformat_minor": 2
}
