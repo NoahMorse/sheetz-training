{
  "metadata": {
    "kernelspec": {
      "name": "python",
      "display_name": "Python (Pyodide)",
      "language": "python"
    },
    "language_info": {
      "codemirror_mode": {
        "name": "python",
        "version": 3
      },
      "file_extension": ".py",
      "mimetype": "text/x-python",
      "name": "python",
      "nbconvert_exporter": "python",
      "pygments_lexer": "ipython3",
      "version": "3.8"
    }
  },
  "nbformat_minor": 4,
  "nbformat": 4,
  "cells": [
    {
      "cell_type": "code",
      "source": "#Update the code to handle the KeyError exception when accessing a dictionary.\ndata = {'name': 'Alice', 'age': 30}\n# Access the 'email' key and handle the exception if it doesn't exist\nemail = data['email']\nprint(f\"Email: {email}\")\n",
      "metadata": {
        "trusted": true
      },
      "outputs": [],
      "execution_count": null
    },
    {
      "cell_type": "code",
      "source": "#Modify the function to raise a custom exception if the input value is negative.\ndef compute_sqrt(value):\n    # If value is negative, raise an exception\n    import math\n    return math.sqrt(value)\n",
      "metadata": {
        "trusted": true
      },
      "outputs": [],
      "execution_count": null
    },
    {
      "cell_type": "code",
      "source": "#Add logging to the code to log an error message when an exception occurs.\ndef divide(a, b):\n    return a / b\n\nresult = divide(10, 0)\nprint(f\"Result: {result}\")\n",
      "metadata": {
        "trusted": true
      },
      "outputs": [],
      "execution_count": null
    },
    {
      "cell_type": "code",
      "source": "#Ensure that a file is properly closed after reading, regardless of whether an exception occurs.import json\ndef read_file(file_path):\n    f = open(file_path, 'r')\n    content = f.read()\n    # Process content\n    f.close()\n",
      "metadata": {
        "trusted": true
      },
      "outputs": [],
      "execution_count": null
    },
    {
      "cell_type": "code",
      "source": "#Update the code to catch multiple specific exceptions.\nimport json\n\ndef parse_json(json_string):\n    data = json.loads(json_string)\n    return data\n\njson_str = '{\"name\": \"Bob\", \"age\": \"twenty\"}'\ndata = parse_json(json_str)\nage = int(data['age'])\nprint(f\"Age: {age}\")\n",
      "metadata": {
        "trusted": true
      },
      "outputs": [],
      "execution_count": null
    }
  ]
}