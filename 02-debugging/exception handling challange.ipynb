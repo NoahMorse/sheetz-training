{
 "cells": [
  {
   "cell_type": "code",
   "execution_count": null,
   "metadata": {
    "trusted": true
   },
   "outputs": [],
   "source": [
    "#Update the code to handle the KeyError exception when accessing a dictionary.\n",
    "data = {'name': 'Alice', 'age': 30}\n",
    "# Access the 'email' key and handle the exception if it doesn't exist\n",
    "email = data['email']\n",
    "print(f\"Email: {email}\")\n"
   ]
  },
  {
   "cell_type": "code",
   "execution_count": null,
   "metadata": {
    "trusted": true
   },
   "outputs": [],
   "source": [
    "#Modify the function to raise a custom exception if the input value is negative.\n",
    "class NegativeValueError(Exception):\n",
    "    pass\n",
    "\n",
    "def compute_sqrt(value):\n",
    "    # If value is negative, raise an exception\n",
    "    import math\n",
    "    return math.sqrt(value)\n",
    "\n",
    "try:\n",
    "    result = compute_sqrt(-9)\n"
   ]
  },
  {
   "cell_type": "code",
   "execution_count": null,
   "metadata": {
    "trusted": true
   },
   "outputs": [],
   "source": [
    "#Add logging to the code to log an error message when an exception occurs.\n",
    "def divide(a, b):\n",
    "    return a / b\n",
    "\n",
    "result = divide(10, 0)\n",
    "print(f\"Result: {result}\")\n"
   ]
  },
  {
   "cell_type": "code",
   "execution_count": null,
   "metadata": {
    "trusted": true
   },
   "outputs": [],
   "source": [
    "#Ensure that a file is properly closed after reading, regardless of whether an exception occurs. The error type would be an IOError.\n",
    "def read_file(file_path):\n",
    "    f = open(file_path, 'r')\n",
    "    content = f.read()\n",
    "    # Process content\n",
    "    f.close()\n"
   ]
  },
  {
   "cell_type": "code",
   "execution_count": null,
   "metadata": {
    "trusted": true
   },
   "outputs": [],
   "source": [
    "#Update the code to catch multiple specific exceptions.\n",
    "import json\n",
    "\n",
    "def parse_json(json_string):\n",
    "    #Possible json.JSONDecodeError\n",
    "    data = json.loads(json_string)\n",
    "    return data #if error return None\n",
    "\n",
    "json_str = '{\"name\": \"Bob\", \"age\": \"twenty\"}'\n",
    "data = parse_json(json_str)\n",
    "#if data:\n",
    "# account for ValueError if data is not int\n",
    "age = int(data['age'])\n",
    "print(f\"Age: {age}\")\n"
   ]
  }
 ],
 "metadata": {
  "kernelspec": {
   "display_name": "Python (Pyodide)",
   "language": "python",
   "name": "python"
  },
  "language_info": {
   "codemirror_mode": {
    "name": "python",
    "version": 3
   },
   "file_extension": ".py",
   "mimetype": "text/x-python",
   "name": "python",
   "nbconvert_exporter": "python",
   "pygments_lexer": "ipython3",
   "version": "3.8"
  }
 },
 "nbformat": 4,
 "nbformat_minor": 4
}
