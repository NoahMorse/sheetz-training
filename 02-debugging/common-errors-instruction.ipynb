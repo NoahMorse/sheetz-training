{
  "metadata": {
    "kernelspec": {
      "name": "python",
      "display_name": "Python (Pyodide)",
      "language": "python"
    },
    "language_info": {
      "codemirror_mode": {
        "name": "python",
        "version": 3
      },
      "file_extension": ".py",
      "mimetype": "text/x-python",
      "name": "python",
      "nbconvert_exporter": "python",
      "pygments_lexer": "ipython3",
      "version": "3.8"
    }
  },
  "nbformat_minor": 4,
  "nbformat": 4,
  "cells": [
    {
      "cell_type": "code",
      "source": "#Syntax Errors: Missing Colons and Parentheses\ndef greet(name)\n    print(\"Hello, \" + name)\n\ngreet(\"Alice\"\n",
      "metadata": {
        "trusted": true
      },
      "outputs": [],
      "execution_count": null
    },
    {
      "cell_type": "code",
      "source": "#Syntax Errors: Missing Colons and Parentheses\ndef check_number(num)\n    if num > 0\n        print(\"Positive number\")\n    else\n        print(\"Non-positive number\")\n",
      "metadata": {
        "trusted": true
      },
      "outputs": [],
      "execution_count": null
    },
    {
      "cell_type": "code",
      "source": "#Name Errors: Using Variables Before Defining Them\ndef calculate_area(length, width):\n    area = lenght * width\n    return area\n\nprint(\"Area:\", calculate_area(5, 3))\n",
      "metadata": {
        "trusted": true
      },
      "outputs": [],
      "execution_count": null
    },
    {
      "cell_type": "code",
      "source": "#Name Errors: Using Variables Before Defining Them\ndef greet():\n    print(message)\n\ngreet()\nmessage = \"Hello, world!\"\n",
      "metadata": {
        "trusted": true
      },
      "outputs": [],
      "execution_count": null
    },
    {
      "cell_type": "code",
      "source": "#Type Errors: Adding Incompatible Types\nname = \"Bob\"\nage = 25\nmessage = \"Hello, \" + name + \"! You are \" + age + \" years old.\"\nprint(message)\n",
      "metadata": {
        "trusted": true
      },
      "outputs": [],
      "execution_count": null
    },
    {
      "cell_type": "code",
      "source": "#Attribute Errors: Calling Methods That Don't Exist\nfruits = [\"apple\", \"banana\", \"cherry\"]\nfruits.push(\"date\")\nprint(fruits)\n",
      "metadata": {
        "trusted": true
      },
      "outputs": [],
      "execution_count": null
    },
    {
      "cell_type": "code",
      "source": "# Indentation Errors: Incorrect Indentation Levels\ndef greet(name):\nprint(\"Hello, \" + name + \"!\")\n\ngreet(\"Charlie\")\n",
      "metadata": {
        "trusted": true
      },
      "outputs": [],
      "execution_count": null
    },
    {
      "cell_type": "code",
      "source": "# Indentation Errors: Incorrect Indentation Levels\ndef check_even(number):\n    if number % 2 == 0:\n        print(\"Even number\")\n      else:\n        print(\"Odd number\")\n",
      "metadata": {
        "trusted": true
      },
      "outputs": [],
      "execution_count": null
    },
    {
      "cell_type": "code",
      "source": "#Off-by-One Errors: Misusing Loop Ranges\ndef print_numbers():\n    for i in range(1, 10):\n        print(i)\n\nprint_numbers()\n",
      "metadata": {
        "trusted": true
      },
      "outputs": [],
      "execution_count": null
    },
    {
      "cell_type": "code",
      "source": "#UnboundLocalError: Variable Scope Issues\ncount = 0\n\ndef increment():\n    count += 1\n    print(f\"Count is {count}\")\n\nincrement()\n",
      "metadata": {
        "trusted": true
      },
      "outputs": [],
      "execution_count": null
    },
    {
      "cell_type": "code",
      "source": "#UnboundLocalError: Variable Scope Issues\ndef outer():\n    num = 10\n    def inner():\n        num += 5\n        print(num)\n    inner()\n\nouter()\n",
      "metadata": {
        "trusted": true
      },
      "outputs": [],
      "execution_count": null
    },
    {
      "cell_type": "code",
      "source": "#Mutable Default Arguments: Common Pitfalls with Default Arguments\ndef add_item(item, item_list=[]):\n    item_list.append(item)\n    return item_list\n\nprint(add_item('apple'))\nprint(add_item('banana'))\nprint(add_item('cherry'))\n",
      "metadata": {
        "trusted": true
      },
      "outputs": [],
      "execution_count": null
    },
    {
      "cell_type": "code",
      "source": "#Variable Scope Issues: global vs. nonlocal\ndef outer_function():\n    count = 0\n    def inner_function():\n        count += 1\n        print(f\"Count is {count}\")\n    inner_function()\n\nouter_function()\n",
      "metadata": {
        "trusted": true
      },
      "outputs": [],
      "execution_count": null
    }
  ]
}