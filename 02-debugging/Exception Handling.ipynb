{
 "cells": [
  {
   "cell_type": "markdown",
   "metadata": {},
   "source": [
    "Error Handling and Logging\n",
    "\n",
    "In security automation, robust error handling and effective logging are crucial. They ensure your scripts can handle unexpected situations gracefully and provide valuable insights during debugging and auditing. This lesson covers best practices in error handling and logging in Python, focusing on using try-except blocks and beyond.\n",
    "\n",
    "Objectives\n",
    "\n",
    "By the end of this lesson, you will be able to:\n",
    "Understand and implement try-except blocks for error handling.\n",
    "Use multiple except clauses, along with else and finally blocks.\n",
    "Raise and handle custom exceptions.\n",
    "Implement logging using Python's logging module.\n",
    "Apply best practices for error handling and logging in Python scripts"
   ]
  },
  {
   "cell_type": "markdown",
   "metadata": {},
   "source": [
    "Understanding Exceptions in Python\n",
    "\n",
    "An exception is an event that occurs during the execution of a program that disrupts the normal flow of instructions. When Python encounters an error, it raises an exception. If not handled, the program will terminate and display a traceback."
   ]
  },
  {
   "cell_type": "code",
   "execution_count": null,
   "metadata": {
    "trusted": true
   },
   "outputs": [],
   "source": [
    "#The try-except block is used to catch and handle exceptions.\n",
    "try:\n",
    "    # Code that may raise an exception\n",
    "except ExceptionType:\n",
    "    # Code to handle the exception\n"
   ]
  },
  {
   "cell_type": "code",
   "execution_count": null,
   "metadata": {
    "trusted": true
   },
   "outputs": [],
   "source": [
    "#Simple Example\n",
    "try:\n",
    "    result = 10 / 0\n",
    "except ZeroDivisionError:\n",
    "    print(\"Error: Cannot divide by zero.\")\n"
   ]
  },
  {
   "cell_type": "code",
   "execution_count": null,
   "metadata": {
    "trusted": true
   },
   "outputs": [],
   "source": [
    "#Catching specific exceptions allows you to handle different error types appropriately and makes debugging easier.\n",
    "try:\n",
    "    with open('config.txt', 'r') as file:\n",
    "        data = file.read()\n",
    "except FileNotFoundError:\n",
    "    print(\"Error: The file was not found.\")\n",
    "except PermissionError:\n",
    "    print(\"Error: Permission denied.\")\n"
   ]
  },
  {
   "cell_type": "code",
   "execution_count": null,
   "metadata": {
    "trusted": true
   },
   "outputs": [],
   "source": [
    "#You can handle multiple exceptions in a single except clause using a tuple.\n",
    "try:\n",
    "    user_input = input(\"Enter a number: \")\n",
    "    number = int(user_input)\n",
    "    result = 100 / number\n",
    "    print(f\"The result is {result}\")\n",
    "except (ValueError, ZeroDivisionError) as e:\n",
    "    print(f\"Error: {e}\")\n"
   ]
  },
  {
   "cell_type": "code",
   "execution_count": null,
   "metadata": {
    "trusted": true
   },
   "outputs": [],
   "source": [
    "#The else block executes if the try block does not raise an exception.\n",
    "try:\n",
    "    user_input = input(\"Enter a number: \")\n",
    "    number = int(user_input)\n",
    "    result = 10 / number\n",
    "except ZeroDivisionError:\n",
    "    print(\"Error: Cannot divide by zero.\")\n",
    "else:\n",
    "    print(f\"The result is {result}\")\n"
   ]
  },
  {
   "cell_type": "code",
   "execution_count": null,
   "metadata": {
    "trusted": true
   },
   "outputs": [],
   "source": [
    "#The finally block always executes, regardless of whether an exception occurred or was handled.\n",
    "try:\n",
    "    with open('data.txt', 'r') as file:\n",
    "        # Process file\n",
    "        data = file.read()\n",
    "        print(\"File processing complete.\")\n",
    "except IOError:\n",
    "    print(\"Error: File not accessible.\")\n",
    "finally:\n",
    "    print(\"This code runs no matter what.\")\n"
   ]
  },
  {
   "cell_type": "code",
   "execution_count": null,
   "metadata": {
    "trusted": true
   },
   "outputs": [],
   "source": [
    "#You can raise exceptions using the raise statement.\n",
    "def validate_password(password):\n",
    "    if len(password) < 8:\n",
    "        raise ValueError(\"Password must be at least 8 characters long.\")\n",
    "\n",
    "try:\n",
    "    validate_password('pass')\n",
    "except ValueError as e:\n",
    "    print(f\"Validation Error: {e}\")\n"
   ]
  },
  {
   "cell_type": "code",
   "execution_count": null,
   "metadata": {
    "trusted": true
   },
   "outputs": [],
   "source": [
    "#Custom exceptions allow you to define your own error types that are meaningful to your application.\n",
    "class InsufficientFundsError(Exception):\n",
    "    pass\n",
    "\n",
    "def withdraw(amount, balance):\n",
    "    if amount > balance:\n",
    "        raise InsufficientFundsError(\"Insufficient funds for withdrawal.\")\n",
    "    balance -= amount\n",
    "    return balance\n",
    "\n",
    "try:\n",
    "    balance = withdraw(150, 100)\n",
    "except InsufficientFundsError as e:\n",
    "    print(f\"Transaction Error: {e}\")\n"
   ]
  },
  {
   "cell_type": "code",
   "execution_count": null,
   "metadata": {
    "trusted": true
   },
   "outputs": [],
   "source": [
    "#Python's built-in logging module provides a flexible framework for emitting log messages from Python programs.\n",
    "import logging\n",
    "\n",
    "logging.basicConfig(level=logging.DEBUG)\n",
    "\n",
    "logging.debug(\"This is a debug message.\")\n",
    "logging.info(\"This is an info message.\")\n",
    "logging.warning(\"This is a warning.\")\n",
    "logging.error(\"This is an error message.\")\n",
    "logging.critical(\"This is critical.\")\n"
   ]
  },
  {
   "cell_type": "code",
   "execution_count": null,
   "metadata": {
    "trusted": true
   },
   "outputs": [],
   "source": [
    "#You can log exceptions using logging.exception(), which logs a message with level ERROR and adds exception information to the message.\n",
    "import logging\n",
    "\n",
    "try:\n",
    "    result = 10 / 0\n",
    "except ZeroDivisionError:\n",
    "    logging.exception(\"An exception occurred while dividing.\")\n"
   ]
  }
 ],
 "metadata": {
  "kernelspec": {
   "display_name": "Python (Pyodide)",
   "language": "python",
   "name": "python"
  },
  "language_info": {
   "codemirror_mode": {
    "name": "python",
    "version": 3
   },
   "file_extension": ".py",
   "mimetype": "text/x-python",
   "name": "python",
   "nbconvert_exporter": "python",
   "pygments_lexer": "ipython3",
   "version": "3.8"
  }
 },
 "nbformat": 4,
 "nbformat_minor": 4
}
