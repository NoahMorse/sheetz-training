{
 "cells": [
  {
   "cell_type": "code",
   "execution_count": null,
   "metadata": {
    "trusted": true
   },
   "outputs": [],
   "source": [
    "# Python Dictionaries are made of key-value pairs\n",
    "\n",
    "phonebook = {\"Alice\": \"412-123-4567\",\n",
    "             \"Bob\": \"919-456-7890\",\n",
    "             \"Eve\": \"412-896-6415\"\n",
    "            }\n",
    "print(phonebook)"
   ]
  },
  {
   "cell_type": "code",
   "execution_count": null,
   "metadata": {
    "trusted": true
   },
   "outputs": [],
   "source": [
    "# We're able to refer to VALUES in the dictionaries based off their unique keys\n",
    "\n",
    "print(phonebook[\"Alice\"])"
   ]
  },
  {
   "cell_type": "code",
   "execution_count": null,
   "metadata": {
    "trusted": true
   },
   "outputs": [],
   "source": [
    "# We can ADD values to a dictionary\n",
    "\n",
    "phonebook[\"Charlie\"] = \"412-555-0199\"\n",
    "print(phonebook)"
   ]
  },
  {
   "cell_type": "code",
   "execution_count": null,
   "metadata": {
    "trusted": true
   },
   "outputs": [],
   "source": [
    "# We can also REMOVE values from a dictionary\n",
    "phonebook.pop(\"Charlie\")\n",
    "print(phonebook)"
   ]
  },
  {
   "cell_type": "code",
   "execution_count": null,
   "metadata": {
    "trusted": true
   },
   "outputs": [],
   "source": [
    "# Values are MUTABLE\n",
    "# Values do not have to be of the same type\n",
    "\n",
    "phonebook[\"Alice\"] = [\"412-123-4567\", \"724-765-4321\"]\n",
    "print(phonebook[\"Alice\"])"
   ]
  },
  {
   "cell_type": "code",
   "execution_count": null,
   "metadata": {},
   "outputs": [],
   "source": [
    "# Referencing dictionary values that don't exit\n",
    "print(phonebook[\"Joe\"])"
   ]
  },
  {
   "cell_type": "code",
   "execution_count": null,
   "metadata": {},
   "outputs": [],
   "source": [
    "# We can fix that one of two ways\n",
    "if \"Joe\" in phonebook:\n",
    "    print(phonebook[\"Joe\"])\n",
    "else:\n",
    "    print(\"Joe not in phonebook\")\n",
    "\n",
    "\n",
    "# OR \n",
    "print(phonebook.get(\"Joe\", \"Joe not in phonebook\"))"
   ]
  },
  {
   "cell_type": "code",
   "execution_count": null,
   "metadata": {},
   "outputs": [],
   "source": [
    "# Safely deleting dictionary values\n",
    "result1 = phonebook.pop(\"Bob\", \"Bob not in phonebook\")\n",
    "print(result1)\n",
    "\n",
    "print(phonebook.pop(\"Joe\", None))\n",
    "print(phonebook)"
   ]
  },
  {
   "cell_type": "code",
   "execution_count": null,
   "metadata": {},
   "outputs": [],
   "source": [
    "# Looping over a dictionary\n",
    "phonebook = {\"Alice\": \"412-123-4567\", \"Bob\": \"919-456-7890\", \"Eve\": \"412-555-0100\", \"Charlie\": \"412-555-0199\"}\n",
    "\n",
    "\n",
    "for key in phonebook:\n",
    "    print(key, phonebook[key])"
   ]
  },
  {
   "cell_type": "code",
   "execution_count": null,
   "metadata": {},
   "outputs": [],
   "source": [
    "# Dictionary data (view objects)\n",
    "\n",
    "# Getting the keys\n",
    "keys = phonebook.keys()\n",
    "print(keys)\n",
    "print(type(keys))\n",
    "print()\n",
    "\n",
    "print(list(phonebook))\n",
    "print()\n",
    "\n",
    "for key in phonebook:\n",
    "    print(key)\n",
    "\n"
   ]
  },
  {
   "cell_type": "code",
   "execution_count": null,
   "metadata": {},
   "outputs": [],
   "source": [
    "# Getting the values\n",
    "values = phonebook.values()\n",
    "print(values)\n",
    "print(type(values))\n",
    "print()\n",
    "\n",
    "print(list(phonebook.values()))\n",
    "print()\n",
    "\n",
    "for value in phonebook.values():\n",
    "    print(value)"
   ]
  },
  {
   "cell_type": "code",
   "execution_count": null,
   "metadata": {},
   "outputs": [],
   "source": [
    "# Getting the items\n",
    "items = phonebook.items()\n",
    "print(items)\n",
    "print(type(items))\n",
    "print()\n",
    "\n",
    "for key, value in phonebook.items():\n",
    "    print(key, value)"
   ]
  },
  {
   "cell_type": "code",
   "execution_count": null,
   "metadata": {
    "trusted": true
   },
   "outputs": [],
   "source": [
    "# We can NEST dictionaries inside of each other \n",
    "phonebook[\"Dave\"] = {\"numbers\": [\"412-123-4567\", \"724-765-4321\"], \"address\": \"123 Main Street\", \"age\": 28}\n",
    "\n",
    "print(phonebook)"
   ]
  },
  {
   "cell_type": "code",
   "execution_count": null,
   "metadata": {},
   "outputs": [],
   "source": [
    "# Take this dictionary of cities and associated populations\n",
    "# For every city that has a population greater than or equal to 1,000,000, \n",
    "#   replace the population count with \"Large City\"\n",
    "#   Otherwise, replace the population count with \"Small City\n",
    "# Print the new dictionary\n",
    "us_cities_population = {\n",
    "    \"New York\": 8419600,\n",
    "    \"Los Angeles\": 3980400,\n",
    "    \"Chicago\": 2716000,\n",
    "    \"Houston\": 2328000,\n",
    "    \"Phoenix\": 1690000,\n",
    "    \"Philadelphia\": 1584200,\n",
    "    \"San Antonio\": 1547200,\n",
    "    \"San Diego\": 1423800,\n",
    "    \"Dallas\": 1341000,\n",
    "    \"San Jose\": 1035300,\n",
    "    \"Austin\": 993649,\n",
    "    \"Jacksonville\": 949611,\n",
    "    \"Fort Worth\": 942323,\n",
    "    \"Columbus\": 905748,\n",
    "    \"Charlotte\": 885708,\n",
    "    \"San Francisco\": 883305,\n",
    "    \"Indianapolis\": 876384,\n",
    "    \"Seattle\": 753675,\n",
    "    \"Denver\": 727211,\n",
    "    \"Washington\": 705749\n",
    "}\n",
    "\n",
    "\n",
    "for city in us_cities_population:\n",
    "    if :\n",
    "        \n",
    "    else:\n",
    "        \n",
    "\n",
    "\n",
    "print(us_cities_population)\n",
    "\n",
    "        "
   ]
  }
 ],
 "metadata": {
  "kernelspec": {
   "display_name": ".venv",
   "language": "python",
   "name": "python3"
  },
  "language_info": {
   "codemirror_mode": {
    "name": "ipython",
    "version": 3
   },
   "file_extension": ".py",
   "mimetype": "text/x-python",
   "name": "python",
   "nbconvert_exporter": "python",
   "pygments_lexer": "ipython3",
   "version": "3.13.0"
  }
 },
 "nbformat": 4,
 "nbformat_minor": 4
}
