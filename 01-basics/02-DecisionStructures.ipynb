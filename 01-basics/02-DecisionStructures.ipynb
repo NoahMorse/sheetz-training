{
 "cells": [
  {
   "cell_type": "code",
   "execution_count": null,
   "metadata": {},
   "outputs": [],
   "source": [
    "# Conditional Logic\n",
    "x = 5\n",
    "y = 10\n",
    "\n",
    "if x < y:\n",
    "    print(\"x is less than y\")"
   ]
  },
  {
   "cell_type": "code",
   "execution_count": null,
   "metadata": {},
   "outputs": [],
   "source": [
    "# If statements operate on boolean expressions\n",
    "myExpression = x < y\n",
    "print(myExpression)\n",
    "print(type(myExpression))\n"
   ]
  },
  {
   "cell_type": "code",
   "execution_count": null,
   "metadata": {},
   "outputs": [],
   "source": [
    "# Many relational / comparison operators\n",
    "print(x > y)\n",
    "print(x < y)\n",
    "print(x >= y)\n",
    "print(x <= y)\n",
    "\n",
    "print(x == y) # Double Equals is a comparison operator\n",
    "print(x != y)"
   ]
  },
  {
   "cell_type": "code",
   "execution_count": null,
   "metadata": {},
   "outputs": [],
   "source": [
    "# We can compare string values\n",
    "user = \"admin\"\n",
    "print(user == \"admin\")\n",
    "\n",
    "# Case sensitive\n",
    "print(user != \"Admin\")\n",
    "\n",
    "\n",
    "print(\"used\" > \"user\") # ASCII comparison\n"
   ]
  },
  {
   "cell_type": "code",
   "execution_count": null,
   "metadata": {},
   "outputs": [],
   "source": [
    "print(ord(\"d\"))\n",
    "print(ord(\"r\"))"
   ]
  },
  {
   "cell_type": "code",
   "execution_count": null,
   "metadata": {},
   "outputs": [],
   "source": [
    "# Many ways for python to determine True or False\n",
    "\n",
    "# How numbers are evaluated\n",
    "print(bool(0))\n",
    "print(bool(1))\n",
    "\n",
    "# How strings are evaluated\n",
    "print(bool(\"\"))\n",
    "print(bool(\"hello world\"))\n",
    "\n"
   ]
  },
  {
   "cell_type": "code",
   "execution_count": null,
   "metadata": {},
   "outputs": [],
   "source": [
    "# If statements can have multiple conditions\n",
    "x = int(input(\"Enter a number: \"))\n",
    "if x < 0:\n",
    "    print(\"x is negative\")\n",
    "elif x == 0:\n",
    "    print(\"x is zero\")\n",
    "else:\n",
    "    print(\"x is positive\")"
   ]
  },
  {
   "cell_type": "code",
   "execution_count": null,
   "metadata": {},
   "outputs": [],
   "source": [
    "# Sheetz Rewardz\n",
    "\n",
    "# For Sheetz Rewardz members, discount orders under $20 by 5%, and orders equal to or over $20 by 10%\n",
    "# Discount new members by 25%\n",
    "\n",
    "mto_total = 10\n",
    "item_total = 20\n",
    "total = mto_total + item_total\n",
    "is_sheetz_rewardz_member = input(\"Do you have a Sheetz card? (yes/no/signup): \")\n",
    "\n",
    "if is_sheetz_rewardz_member == \"signup\":\n",
    "    total = total * .75\n",
    "elif is_sheetz_rewardz_member == \"yes\":\n",
    "    if total < 20:\n",
    "        total = total * .95\n",
    "    else:\n",
    "        total = total * .90\n",
    "else:\n",
    "    total = mto_total + item_total\n",
    "    \n",
    "print(total)"
   ]
  },
  {
   "cell_type": "code",
   "execution_count": null,
   "metadata": {},
   "outputs": [],
   "source": [
    "# Logical operators - AND, OR, NOT\n",
    "\n",
    "# AND\n",
    "\n",
    "x = 5\n",
    "if x > 0 and x < 10:\n",
    "    print(\"x is between 0 and 10\")"
   ]
  },
  {
   "cell_type": "code",
   "execution_count": null,
   "metadata": {},
   "outputs": [],
   "source": [
    "username = input(\"Enter your username: \")\n",
    "\n",
    "if username == True and len(username) < 50:\n",
    "    print(\"name field is valid\")\n",
    "else:\n",
    "    print(\"invalid name\")"
   ]
  },
  {
   "cell_type": "code",
   "execution_count": null,
   "metadata": {},
   "outputs": [],
   "source": [
    "# Remake the Sheetz Example using an AND statement\n",
    "\n"
   ]
  },
  {
   "cell_type": "code",
   "execution_count": null,
   "metadata": {},
   "outputs": [],
   "source": [
    "# OR\n",
    "\n",
    "if True or False:\n",
    "    print(\"Always True\")\n",
    "\n",
    "x = -1\n",
    "if x < 0 or x > 100:\n",
    "    print(\"x is out of bounds\")\n",
    "\n",
    "password = \"password\"\n",
    "if len(password) < 10 or len(password) > 50:\n",
    "    print(\"Password must be between 8 and 50 characters\")\n"
   ]
  },
  {
   "cell_type": "code",
   "execution_count": null,
   "metadata": {},
   "outputs": [],
   "source": [
    "username = input(\"Enter your username: \")\n",
    "if username == \"admin\" or username == \"root\":\n",
    "    print(\"Invalid username\")"
   ]
  },
  {
   "cell_type": "code",
   "execution_count": null,
   "metadata": {},
   "outputs": [],
   "source": [
    "# Short Circuiting\n",
    "\n",
    "# OR\n",
    "if True or brand_new_not_yet_declared_variable == 5:\n",
    "    print(\"This will always print\")\n",
    "\n",
    "\n",
    "\n"
   ]
  },
  {
   "cell_type": "code",
   "execution_count": null,
   "metadata": {},
   "outputs": [],
   "source": [
    "# AND\n",
    "if False and 999999**99999**99999 >= 999999999999999:\n",
    "    print(\"This will never print\")"
   ]
  },
  {
   "cell_type": "code",
   "execution_count": null,
   "metadata": {},
   "outputs": [],
   "source": [
    "# NOT\n",
    "print(not(True))\n",
    "print(not(1))\n"
   ]
  },
  {
   "cell_type": "code",
   "execution_count": null,
   "metadata": {},
   "outputs": [],
   "source": [
    "password = \"\"\n",
    "if len(password) == 0:\n",
    "    print(\"Password is empty\")\n",
    "\n",
    "if password == \"\":\n",
    "    print(\"Password is empty\")\n",
    "\n",
    "if not password:\n",
    "    print(\"Password is empty\")\n"
   ]
  },
  {
   "cell_type": "code",
   "execution_count": null,
   "metadata": {},
   "outputs": [],
   "source": [
    "# While Loops are conditional\n",
    "x = 0\n",
    "while x < 5:\n",
    "    print(x)\n",
    "    x += 1\n"
   ]
  },
  {
   "cell_type": "code",
   "execution_count": null,
   "metadata": {},
   "outputs": [],
   "source": [
    "username = \"\"\n",
    "while not username:\n",
    "    username = input(\"Enter your username: \")\n",
    "\n",
    "print(username)"
   ]
  },
  {
   "cell_type": "code",
   "execution_count": null,
   "metadata": {},
   "outputs": [],
   "source": [
    "username = \"\"\n",
    "while not username:\n",
    "    username = input(\"Enter your username: \")\n",
    "    if username == \"admin\" or username == \"root\" or len(username) < 5 or len(username) > 20 or \" \" in username:\n",
    "        print(\"Invalid username\")\n",
    "        username = \"\"\n",
    "print(username)"
   ]
  },
  {
   "cell_type": "code",
   "execution_count": null,
   "metadata": {},
   "outputs": [],
   "source": [
    "# Create a number uessing game with a while loop\n",
    "\n",
    "# Let the user know if their guess was too high, or too low\n",
    "# Once they guessed it, print the random number\n",
    "\n",
    "import random\n",
    "number = random.randint(1, 100)\n",
    "guess = int(input(\"Guess a number between 1 and 100: \"))\n",
    "\n"
   ]
  },
  {
   "cell_type": "code",
   "execution_count": null,
   "metadata": {},
   "outputs": [],
   "source": [
    "# Sentinals signal for a program to stop\n",
    "\n",
    "print(\"Enter the item's cost to calulcate the tax\")\n",
    "print(\"Enter 0 to stop\")\n",
    "print()\n",
    "\n",
    "cost = 1 # Forces the condition to be true\n",
    "while cost != 0:\n",
    "    cost = float(input(\"Enter the item cost: \"))\n",
    "    tax = cost * .07\n",
    "\n",
    "    print(f\"The sales is ${tax:.2f}\") # f-string formatting\n",
    "\n"
   ]
  },
  {
   "cell_type": "code",
   "execution_count": null,
   "metadata": {},
   "outputs": [],
   "source": [
    "# For Loops work over a sequence of values\n",
    "\n",
    "for character in \"hello world\":\n",
    "    print(character)\n"
   ]
  },
  {
   "cell_type": "code",
   "execution_count": null,
   "metadata": {},
   "outputs": [],
   "source": [
    "# Printing the numbers 1 through 5\n",
    "for number in \"12345\":\n",
    "    print(number)"
   ]
  },
  {
   "cell_type": "code",
   "execution_count": null,
   "metadata": {},
   "outputs": [],
   "source": [
    "# Range function creates an iterable \n",
    "for number in range(5):\n",
    "    print(number)"
   ]
  },
  {
   "cell_type": "code",
   "execution_count": null,
   "metadata": {},
   "outputs": [],
   "source": [
    "# Setting the bounds on range\n",
    "for number in range(1, 6):\n",
    "    print(number)"
   ]
  },
  {
   "cell_type": "code",
   "execution_count": null,
   "metadata": {},
   "outputs": [],
   "source": [
    "# Changing the step\n",
    "for number in range(0, 10, 2):\n",
    "    print(number)"
   ]
  },
  {
   "cell_type": "code",
   "execution_count": null,
   "metadata": {},
   "outputs": [],
   "source": [
    "# Using range to go backwards\n",
    "for number in range(5, 0, -1):\n",
    "    print(number)"
   ]
  },
  {
   "cell_type": "code",
   "execution_count": null,
   "metadata": {},
   "outputs": [],
   "source": [
    "# Print the squares of the numbers 5 through 10\n"
   ]
  },
  {
   "cell_type": "code",
   "execution_count": null,
   "metadata": {},
   "outputs": [],
   "source": [
    "iterations = input(\"How many numbers do you want to add? \")\n",
    "\n",
    "total = 0 # Useful for a running total\n",
    "\n",
    "for i in range(int(iterations)): # Don't actually need the i variable, just using the for loop to iterate a certain number of times\n",
    "    number = input(\"Enter a number: \")\n",
    "    total += int(number) # Using an augmented assignemnt operator to add the number to the total\n",
    "print(\"The total is\", total)\n"
   ]
  },
  {
   "cell_type": "code",
   "execution_count": null,
   "metadata": {},
   "outputs": [],
   "source": [
    "# Input validation in loop\n",
    "gas_price = 3.15\n",
    "gallons = int(input(\"Enter how many gallons of gas you would like to purchase: \"))\n",
    "while gallons < 0 or gallons > 50:\n",
    "    print(\"Invalid amount of gas\")\n",
    "    gallons = int(input(\"Enter how many gallons of gas you would like to purchase: \"))\n",
    "\n",
    "print(f\"The total cost is ${gallons * gas_price:.2f}\")\n",
    "\n"
   ]
  },
  {
   "cell_type": "code",
   "execution_count": null,
   "metadata": {},
   "outputs": [],
   "source": [
    "# Nested Loops\n",
    "for i in range(3):\n",
    "    for j in (\"abcd\"):\n",
    "        print(i, j)"
   ]
  },
  {
   "cell_type": "code",
   "execution_count": null,
   "metadata": {},
   "outputs": [],
   "source": [
    "# A nested for loop to print a square of asterisks\n",
    "rows = int(input(\"Enter the number of Rows: \"))\n",
    "columns = int(input(\"Enter the number of Columns: \"))\n",
    "for i in range(rows):\n",
    "    for j in range(columns):\n",
    "        print(\"*\", end=\"\")\n",
    "    print()"
   ]
  },
  {
   "cell_type": "code",
   "execution_count": null,
   "metadata": {},
   "outputs": [],
   "source": [
    "# Make a nested for loop to print the following pattern:\n",
    "'''\n",
    "\n",
    "*\n",
    "**\n",
    "***\n",
    "****\n",
    "*****\n",
    "******\n",
    "*******\n",
    "********\n",
    "\n",
    "'''\n"
   ]
  }
 ],
 "metadata": {
  "kernelspec": {
   "display_name": ".venv",
   "language": "python",
   "name": "python3"
  },
  "language_info": {
   "codemirror_mode": {
    "name": "ipython",
    "version": 3
   },
   "file_extension": ".py",
   "mimetype": "text/x-python",
   "name": "python",
   "nbconvert_exporter": "python",
   "pygments_lexer": "ipython3",
   "version": "3.13.0"
  }
 },
 "nbformat": 4,
 "nbformat_minor": 2
}
