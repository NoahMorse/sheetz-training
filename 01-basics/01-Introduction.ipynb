{
 "cells": [
  {
   "cell_type": "code",
   "execution_count": null,
   "metadata": {
    "trusted": true
   },
   "outputs": [],
   "source": [
    "# Python can evaluate Expressions\n",
    "2 + 2"
   ]
  },
  {
   "cell_type": "code",
   "execution_count": null,
   "metadata": {},
   "outputs": [],
   "source": [
    "# Data can be saved to Variables\n",
    "a = 2\n",
    "b = a + a\n",
    "b"
   ]
  },
  {
   "cell_type": "code",
   "execution_count": null,
   "metadata": {},
   "outputs": [],
   "source": [
    "# Variables can change their value\n",
    "a = a + 1\n",
    "a"
   ]
  },
  {
   "cell_type": "code",
   "execution_count": null,
   "metadata": {},
   "outputs": [],
   "source": [
    "# Variables can hold different types of data\n",
    "name = \"Noah\"\n",
    "name"
   ]
  },
  {
   "cell_type": "code",
   "execution_count": null,
   "metadata": {},
   "outputs": [],
   "source": [
    "# Python has built in functions for common operations\n",
    "\n",
    "# We can print strings\n",
    "print(\"Hello World\")\n",
    "\n",
    "# We can print variables\n",
    "print(name)\n",
    "\n",
    "# We can print numbers\n",
    "print(a)"
   ]
  },
  {
   "cell_type": "code",
   "execution_count": null,
   "metadata": {},
   "outputs": [],
   "source": [
    "# There are some rules and guidelines around variable names\n",
    "\n",
    "# Variables can contain letters, numbers, and underscores\n",
    "months_with_31_days = 7\n",
    "\n",
    "# Variables must start with a letter or an underscore\n",
    "unit_of_measurement = \"meters\"\n",
    "print(unit_of_measurement)\n"
   ]
  },
  {
   "cell_type": "code",
   "execution_count": null,
   "metadata": {},
   "outputs": [],
   "source": [
    "# Variables have some guidelines\n",
    "\n",
    "# Variables starting with an underscore are usually for internal use\n",
    "_attribute = \"something\"\n",
    "print(_attribute)\n",
    "\n",
    "# Variables can be snake_case or camelCase\n",
    "snake_case = \"snake_case\"\n",
    "camelCase = \"camelCase\"\n",
    "print(snake_case, camelCase)"
   ]
  },
  {
   "cell_type": "code",
   "execution_count": null,
   "metadata": {
    "trusted": true
   },
   "outputs": [],
   "source": [
    "# Every variable has a type\n",
    "n = 5\n",
    "print(type(n))\n",
    "print(n)\n",
    "\n",
    "print(type(name))\n",
    "print(name)"
   ]
  },
  {
   "cell_type": "code",
   "execution_count": null,
   "metadata": {
    "trusted": true
   },
   "outputs": [],
   "source": [
    "# Integers are whole numbers\n",
    "n = 5\n",
    "n = n + 4\n",
    "n = n - 2\n",
    "n = n * 3\n",
    "print(n)\n",
    "print(type(n))"
   ]
  },
  {
   "cell_type": "code",
   "execution_count": null,
   "metadata": {},
   "outputs": [],
   "source": [
    "# Floats contain a decimal point\n",
    "n = n / 2\n",
    "print(n)\n",
    "print(type(n))"
   ]
  },
  {
   "cell_type": "code",
   "execution_count": null,
   "metadata": {
    "trusted": true
   },
   "outputs": [],
   "source": [
    "# We can do different operations on numbers\n",
    "n = 6\n",
    "n = n ** 2\n",
    "print(n)\n",
    "\n",
    "# Integer division (floor division)\n",
    "n = n // 10\n",
    "print(n)\n",
    "\n",
    "# Modulus is the remainder function \n",
    "n = 36 % 10\n",
    "print(n)"
   ]
  },
  {
   "cell_type": "code",
   "execution_count": null,
   "metadata": {
    "trusted": true
   },
   "outputs": [],
   "source": [
    "# We can incremenet variables\n",
    "n = 1\n",
    "n = n + 1\n",
    "n += 1 # Augmented Assignment operator\n",
    "print(n)\n",
    "\n",
    "# We can decrement variables too\n",
    "n -= 2\n",
    "n = n - 2\n",
    "print(n)"
   ]
  },
  {
   "cell_type": "code",
   "execution_count": null,
   "metadata": {},
   "outputs": [],
   "source": [
    "# Write code that will calculate the area of a circle. Print the result\n",
    "# Hint: The formula for the area of a circle is pi * r^2\n",
    "\n",
    "pi = 3.14159\n",
    "diameter = 5\n",
    "\n"
   ]
  },
  {
   "cell_type": "code",
   "execution_count": null,
   "metadata": {
    "trusted": true
   },
   "outputs": [],
   "source": [
    "# Strings Introduction\n",
    "username = \"noah\"\n",
    "print(username)\n",
    "print(type(username))"
   ]
  },
  {
   "cell_type": "code",
   "execution_count": null,
   "metadata": {},
   "outputs": [],
   "source": [
    "# Concatenation\n",
    "fullname = username + \" Morse\"\n",
    "print(fullname)"
   ]
  },
  {
   "cell_type": "code",
   "execution_count": null,
   "metadata": {},
   "outputs": [],
   "source": [
    "# String inputs\n",
    "username = input(\"Enter your name: \")\n",
    "print(username)"
   ]
  },
  {
   "cell_type": "code",
   "execution_count": null,
   "metadata": {
    "trusted": true
   },
   "outputs": [],
   "source": [
    "# Printing strings\n",
    "\n",
    "# Printing multiple values\n",
    "print(\"My name is\", username)\n",
    "\n",
    "# Concatenation\n",
    "print(\"My name is \" + username)\n",
    "\n",
    "# f-strings\n",
    "print(f\"My name is {username}\")\n",
    "\n",
    "# %-formatting\n",
    "print(\"My name is %s\" % username)\n",
    "\n",
    "# Str.format()\n",
    "print(\"My name is {}\".format(username))\n",
    "\n"
   ]
  },
  {
   "cell_type": "code",
   "execution_count": null,
   "metadata": {
    "trusted": true
   },
   "outputs": [],
   "source": [
    "# Combining ints and strings\n",
    "age = 28\n",
    "print(age)\n",
    "\n",
    "greeting = greeting + \" and I am \" + age + \" years old\"\n",
    "print(greeting)"
   ]
  },
  {
   "cell_type": "code",
   "execution_count": null,
   "metadata": {},
   "outputs": [],
   "source": [
    "# There are built in functions to convert data types\n",
    "n = int(1)\n",
    "print(n)\n",
    "print(type(n))\n",
    "\n",
    "n = str(n)\n",
    "print(n)\n",
    "print(type(n))\n",
    "\n",
    "n = float(n)\n",
    "print(n)\n",
    "print(type(n))"
   ]
  },
  {
   "cell_type": "code",
   "execution_count": null,
   "metadata": {
    "trusted": true
   },
   "outputs": [],
   "source": [
    "# We can convert the integer to a string\n",
    "greeting = greeting + \" and I am \" + str(age) + \" years old\"\n",
    "print(greeting)"
   ]
  },
  {
   "cell_type": "code",
   "execution_count": null,
   "metadata": {},
   "outputs": [],
   "source": [
    "# Printing special characters\n",
    "\n",
    "print(\"He said: \"Hello World\"\")\n"
   ]
  },
  {
   "cell_type": "code",
   "execution_count": null,
   "metadata": {},
   "outputs": [],
   "source": [
    "# We can change the types of quotes we use\n",
    "print('He said \"Hello World\"')\n",
    "\n",
    "# We can use escape characters\n",
    "print(\"He said \\\"Hello World\\\"\")\n"
   ]
  },
  {
   "cell_type": "code",
   "execution_count": null,
   "metadata": {},
   "outputs": [],
   "source": [
    "# Escape characters are a special character, starting with a backslash\n",
    "print(\"This is a new\\nline\")\n",
    "print(\"This is a\\t tab\\t\")\n",
    "print(\"This is a backslash \\\\\")"
   ]
  },
  {
   "cell_type": "code",
   "execution_count": null,
   "metadata": {},
   "outputs": [],
   "source": [
    "# Can be useful for pilepaths\n",
    "filepath = \"C:\\\\Users\\\\Noah\\\\Documents\\\\file.txt\"\n",
    "print(filepath)"
   ]
  },
  {
   "cell_type": "code",
   "execution_count": null,
   "metadata": {},
   "outputs": [],
   "source": [
    "# Raw strings can also be used\n",
    "print(r\"C:\\Users\\Noah\\Documents\\file.txt\")\n"
   ]
  }
 ],
 "metadata": {
  "kernelspec": {
   "display_name": ".venv",
   "language": "python",
   "name": "python3"
  },
  "language_info": {
   "codemirror_mode": {
    "name": "ipython",
    "version": 3
   },
   "file_extension": ".py",
   "mimetype": "text/x-python",
   "name": "python",
   "nbconvert_exporter": "python",
   "pygments_lexer": "ipython3",
   "version": "3.13.0"
  }
 },
 "nbformat": 4,
 "nbformat_minor": 4
}
