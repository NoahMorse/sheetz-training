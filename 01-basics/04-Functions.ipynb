{
 "cells": [
  {
   "cell_type": "markdown",
   "metadata": {},
   "source": [
    "# Introduction to Python Functions\n",
    "\n",
    "## What is a Function?\n",
    "\n",
    "A function is a block of organized, reusable code that is used to perform a single, related action. Functions provide better modularity for your application and a high degree of code reusability.\n",
    "\n",
    "## Why Use Functions?\n",
    "\n",
    "1. **Simplicity**: Functions break down complex problems into smaller, manageable tasks.\n",
    "2. **Reusability**: Once a function is defined, it can be reused multiple times throughout the code.\n",
    "3. **Testing**: Functions can be tested individually, ensuring that each part of the code works correctly.\n",
    "4. **Maintainability**: Functions make the code more organized and easier to maintain.\n",
    "\n",
    "## Defining a Function\n",
    "\n",
    "In Python, a function is defined using the `def` keyword followed by the function name and parentheses `()`.\n",
    "\n",
    "```python\n",
    "def function_name(parameters):\n",
    "    result = parameters + code_logic\n",
    "    return result\n",
    "```\n",
    "\n",
    "## Calling a function\n",
    "\n",
    "Functions have to be called in order to execute.\n",
    "\n",
    "```python\n",
    "result = function_name(argument1, argument2)\n",
    "```\n",
    "\n",
    "## Naming a function\n",
    "\n",
    "- No Python key words (def, type, int)\n",
    "- No spaces\n",
    "- First character either a-Z or _\n",
    "- Other characters can be a-Z, 0-9, or _\n",
    "- Uppercase and lowercase are distinct\n",
    "\n"
   ]
  },
  {
   "cell_type": "code",
   "execution_count": null,
   "metadata": {},
   "outputs": [],
   "source": [
    "# Void functions do not return a value\n",
    "\n",
    "def say_hello():\n",
    "    print(\"Hello World\")\n",
    "\n",
    "say_hello()\n",
    "say_hello()\n",
    "say_hello()"
   ]
  },
  {
   "cell_type": "code",
   "execution_count": null,
   "metadata": {},
   "outputs": [],
   "source": [
    "# Funciton must be defined before it is called\n",
    "\n",
    "say_hello_2()\n",
    "\n",
    "def say_hello_2():\n",
    "    print(\"Hello World\")"
   ]
  },
  {
   "cell_type": "code",
   "execution_count": null,
   "metadata": {},
   "outputs": [],
   "source": [
    "# Functions can take arguments\n",
    "def say_hello_to(name):\n",
    "    print(\"Hello\", name)\n",
    "\n",
    "say_hello_to(\"Alice\")\n",
    "say_hello_to(\"Bob\")"
   ]
  },
  {
   "cell_type": "code",
   "execution_count": null,
   "metadata": {},
   "outputs": [],
   "source": [
    "# Scope\n",
    "\n",
    "# Variables defined in functions are local to the function\n",
    "def say_hello():\n",
    "    message = \"Hello World\"\n",
    "    print(message)\n",
    "\n",
    "say_hello()\n",
    "\n",
    "print(message)"
   ]
  },
  {
   "cell_type": "code",
   "execution_count": null,
   "metadata": {},
   "outputs": [],
   "source": [
    "# Functions can't change the value of variables outside the scope\n",
    "\n",
    "def update_value(argument):\n",
    "    print(\"updating the value\")\n",
    "    argument = argument * 2\n",
    "    print(\"The value is:\", argument)\n",
    "\n",
    "\n",
    "original_value = 5\n",
    "print(\"The value is:\", original_value)\n",
    "update_value(original_value)\n",
    "print(\"The value is:\", original_value)\n",
    "\n"
   ]
  },
  {
   "cell_type": "code",
   "execution_count": null,
   "metadata": {},
   "outputs": [],
   "source": [
    "# Functions can return updated values\n",
    "def update_value(argument):\n",
    "    print(\"updating the value\")\n",
    "    return(argument * 2)\n",
    "\n",
    "value = 2\n",
    "print(\"The value is:\", value)\n",
    "\n",
    "value = update_value(value)\n",
    "print(\"The value is:\", value)\n",
    "\n",
    "value = update_value(value)\n",
    "print(\"The value is:\", value)\n"
   ]
  },
  {
   "cell_type": "code",
   "execution_count": null,
   "metadata": {},
   "outputs": [],
   "source": [
    "# Returning exits the function\n",
    "\n",
    "def even_or_odd(value):\n",
    "    if value % 2 == 0:\n",
    "        return \"even\"\n",
    "    return \"odd\"\n",
    "\n",
    "print(even_or_odd(2))\n",
    "print(even_or_odd(3))\n"
   ]
  },
  {
   "cell_type": "code",
   "execution_count": null,
   "metadata": {},
   "outputs": [],
   "source": [
    "# Functions can return multiple values\n",
    "def get_name():\n",
    "    first_name = \"Alice\"\n",
    "    last_name = \"Smith\"\n",
    "    return first_name, last_name\n",
    "\n",
    "first, last = get_name()\n",
    "print(first, last)\n"
   ]
  },
  {
   "cell_type": "code",
   "execution_count": null,
   "metadata": {},
   "outputs": [],
   "source": [
    "# Parameter order matters...\n",
    "\n",
    "def calculate_total(subtotal, tax_rate):\n",
    "    total = subtotal * (1 + tax_rate)\n",
    "    return total\n",
    "\n",
    "total = calculate_total(0.07, 0.100)\n",
    "print(total)"
   ]
  },
  {
   "cell_type": "code",
   "execution_count": null,
   "metadata": {},
   "outputs": [],
   "source": [
    "# ... Unless we name the parameters\n",
    "\n",
    "def calculate_total(subtotal, tax_rate):\n",
    "    total = subtotal * (1 + tax_rate)\n",
    "    return total\n",
    "\n",
    "total = calculate_total(tax_rate=0.07, subtotal=100)\n",
    "print(total)"
   ]
  },
  {
   "cell_type": "code",
   "execution_count": null,
   "metadata": {},
   "outputs": [],
   "source": [
    "# Functions can call other functions\n",
    "\n",
    "def main():\n",
    "    # Instruct a user how to make a f'real Milkshake\n",
    "    step1()\n",
    "    step2()\n",
    "    step3()\n",
    "    step4()\n",
    "\n",
    "def step1():\n",
    "    print(\"Pick a f'real cup\")\n",
    "\n",
    "def step2():\n",
    "    print(\"Peel off the lid\")\n",
    "\n",
    "def step3():\n",
    "    print(\"Place the cup in the holder\")\n",
    "\n",
    "def step4():\n",
    "    print(\"Press start\")\n",
    "    \n",
    "# Common to see a main function that calls other functions\n",
    "main()"
   ]
  },
  {
   "cell_type": "code",
   "execution_count": null,
   "metadata": {},
   "outputs": [],
   "source": [
    "# Combining functions\n",
    "\n",
    "def main():\n",
    "    # One appetizer at 13.99\n",
    "    # Two entrees at 22.99\n",
    "    # One dessert at 11.99\n",
    "    appetizer = \n",
    "    entree = \n",
    "    dessert = \n",
    "\n",
    "    subtotal = \n",
    "    tax, tip = \n",
    "    total = \n",
    "\n",
    "    print_receipt(subtotal, tip, tax, total)\n",
    "\n",
    "\n",
    "def calculate_item_cost(price, quantity):\n",
    "    subtotal = price * quantity\n",
    "    return subtotal\n",
    "\n",
    "def calculate_subtotal(item_one, item_two, item_three):\n",
    "    subtotal = item_one + item_two + item_three\n",
    "    return subtotal\n",
    "\n",
    "def calculate_tax_and_tip(subtotal):\n",
    "    tax = subtotal * 0.07\n",
    "    tip = subtotal * 0.2\n",
    "    return tax, tip\n",
    "\n",
    "def calculate_total(subtotal, tip, tax):\n",
    "    total = subtotal + tip + tax\n",
    "    return total\n",
    "\n",
    "def print_receipt(subtotal, tip, tax, total):\n",
    "    print(f\"Subtotal: ${subtotal:.2f}\")\n",
    "    print(f\"Tax: ${tax:.2f}\")\n",
    "    print(f\"Tip: ${tip:.2f}\")\n",
    "    print(f\"Total: ${total:.2f}\")\n",
    "\n",
    "\n",
    "\n",
    "main()\n"
   ]
  },
  {
   "cell_type": "code",
   "execution_count": null,
   "metadata": {},
   "outputs": [],
   "source": [
    "# Global Variables\n",
    "\n",
    "# Variables defined outside of functions are global\n",
    "total = 14.45\n",
    "\n",
    "def display_total():\n",
    "    print(f\"Total: ${total:.2f}\")\n",
    "\n",
    "display_total()"
   ]
  },
  {
   "cell_type": "code",
   "execution_count": null,
   "metadata": {},
   "outputs": [],
   "source": [
    "# Mutating a global variable\n",
    "total = 14.45\n",
    "\n",
    "def update_total():\n",
    "    global total\n",
    "    total = total + 5\n",
    "\n",
    "print(f\"Total: ${total:.2f}\")\n",
    "update_total()\n",
    "print(f\"Total: ${total:.2f}\")"
   ]
  },
  {
   "cell_type": "code",
   "execution_count": null,
   "metadata": {},
   "outputs": [],
   "source": [
    "# Global variables are generally avoided\n",
    "# Global Constants are OK\n",
    "\n",
    "TAX_RATE = 0.07\n",
    "\n",
    "def calculate_total(subtotal):\n",
    "    total = subtotal * (1 + TAX_RATE)\n",
    "    return total\n",
    "\n",
    "total = calculate_total(100)\n",
    "print(f\"Total: ${total:.2f}\") #Note: You can all a function within a print statement\n",
    "\n"
   ]
  },
  {
   "cell_type": "code",
   "execution_count": null,
   "metadata": {},
   "outputs": [],
   "source": [
    "# Functions Exercise (Salary)"
   ]
  }
 ],
 "metadata": {
  "kernelspec": {
   "display_name": ".venv",
   "language": "python",
   "name": "python3"
  },
  "language_info": {
   "codemirror_mode": {
    "name": "ipython",
    "version": 3
   },
   "file_extension": ".py",
   "mimetype": "text/x-python",
   "name": "python",
   "nbconvert_exporter": "python",
   "pygments_lexer": "ipython3",
   "version": "3.13.0"
  }
 },
 "nbformat": 4,
 "nbformat_minor": 2
}
