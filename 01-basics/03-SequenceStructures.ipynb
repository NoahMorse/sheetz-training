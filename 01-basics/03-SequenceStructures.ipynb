{
 "cells": [
  {
   "cell_type": "code",
   "execution_count": null,
   "metadata": {},
   "outputs": [],
   "source": [
    "# A list is a Python object that contains multiple elements\n",
    "lucky_numbers = [12, 41, 15, 17, 33]\n",
    "print(lucky_numbers)\n",
    "print(type(lucky_numbers))"
   ]
  },
  {
   "cell_type": "code",
   "execution_count": null,
   "metadata": {},
   "outputs": [],
   "source": [
    "# Lists can contain different data types\n",
    "variable_list = [12, \"hello\", 3.14, True]\n",
    "print(variable_list)"
   ]
  },
  {
   "cell_type": "code",
   "execution_count": null,
   "metadata": {},
   "outputs": [],
   "source": [
    "# We can make a list with the list() function\n",
    "letters = list(\"abcd\")\n",
    "print(letters)\n"
   ]
  },
  {
   "cell_type": "code",
   "execution_count": null,
   "metadata": {},
   "outputs": [],
   "source": [
    "# We can multiply lists with the repetition operator\n",
    "multiple_letters = letters * 3\n",
    "print(multiple_letters)"
   ]
  },
  {
   "cell_type": "code",
   "execution_count": null,
   "metadata": {},
   "outputs": [],
   "source": [
    "# We can combine lists with range\n",
    "numbers = list(range(1, 10, 2))\n",
    "print(numbers)"
   ]
  },
  {
   "cell_type": "code",
   "execution_count": null,
   "metadata": {},
   "outputs": [],
   "source": [
    "# We can index a list with a number\n",
    "names = [\"Alice\", \"Bob\", \"Eve\"]\n",
    "\n",
    "print(names[0])\n",
    "print(names[1])\n",
    "print(names[2])\n",
    "print()\n"
   ]
  },
  {
   "cell_type": "code",
   "execution_count": null,
   "metadata": {},
   "outputs": [],
   "source": [
    "# We can also do negative indexes\n",
    "print(names[-1])\n",
    "print(names[-2])\n",
    "print(names[-3])"
   ]
  },
  {
   "cell_type": "code",
   "execution_count": null,
   "metadata": {},
   "outputs": [],
   "source": [
    "# We can update an element with the index\n",
    "names[0] = \"David\"\n",
    "print(names)"
   ]
  },
  {
   "cell_type": "code",
   "execution_count": null,
   "metadata": {},
   "outputs": [],
   "source": [
    "# We can combine lists\n",
    "names_1 = [\"Alice\", \"Bob\", \"Eve\"]\n",
    "names_2 = [\"Joe\", \"Charlie\", \"Dan\"]\n",
    "names = names_1 + names_2\n",
    "print(names)"
   ]
  },
  {
   "cell_type": "code",
   "execution_count": null,
   "metadata": {},
   "outputs": [],
   "source": [
    "# we can get the length of an array\n",
    "print(len(names))\n"
   ]
  },
  {
   "cell_type": "code",
   "execution_count": null,
   "metadata": {},
   "outputs": [],
   "source": [
    "# We an iterate over an array with a while loop\n",
    "index = 0\n",
    "while index < len(names):\n",
    "    print(index, names[index])\n",
    "    index += 1\n"
   ]
  },
  {
   "cell_type": "code",
   "execution_count": null,
   "metadata": {},
   "outputs": [],
   "source": [
    "# We an also use a for loop to iterate directly over the elements\n",
    "for name in names:\n",
    "    print(name)"
   ]
  },
  {
   "cell_type": "code",
   "execution_count": null,
   "metadata": {},
   "outputs": [],
   "source": [
    "# Sometimes, we want the index and the element\n",
    "# Useful for updating elements\n",
    "# Or for iterating over two lists at the same time\n",
    "\n",
    "numbers = [6, 7, 8, 9, 10]\n",
    "for i in range(len(numbers)):\n",
    "    print(i, numbers[i])\n",
    "    numbers[i] = numbers[i] ** 2\n",
    "print(numbers)"
   ]
  },
  {
   "cell_type": "code",
   "execution_count": null,
   "metadata": {},
   "outputs": [],
   "source": [
    "# We can also use the enumerate function to reference the index and the element\n",
    "numbers = [6, 7, 8, 9, 10]\n",
    "for i, number in enumerate(numbers):\n",
    "    print(i, number)\n",
    "    numbers[i] = numbers[i] ** 2\n",
    "\n",
    "print(numbers)"
   ]
  },
  {
   "cell_type": "code",
   "execution_count": null,
   "metadata": {},
   "outputs": [],
   "source": [
    "# We can have lists of lists\n",
    "matrices = [[1, 2, 3], [4, 5, 6], [7, 8, 9]]\n",
    "for matrix in matrices:\n",
    "    for i in matrix:\n",
    "        print(i, end=\" \")\n",
    "    print()"
   ]
  },
  {
   "cell_type": "code",
   "execution_count": null,
   "metadata": {},
   "outputs": [],
   "source": [
    "# We can sort lists\n",
    "\n",
    "#Ascending by default\n",
    "numbers = [10, 9, 8, 7, 6, 5]\n",
    "numbers.sort()\n",
    "\n",
    "#Alphabetic by default\n",
    "names = [\"Alice\", \"Bob\", \"Eve\"]\n",
    "names.sort()\n",
    "\n",
    "print(numbers)\n",
    "print(names)\n",
    "\n"
   ]
  },
  {
   "cell_type": "code",
   "execution_count": null,
   "metadata": {},
   "outputs": [],
   "source": [
    "numbers.sort(reverse=True)\n",
    "print(numbers)\n",
    "\n",
    "names.sort(reverse=True)\n",
    "print(names)"
   ]
  },
  {
   "cell_type": "code",
   "execution_count": null,
   "metadata": {},
   "outputs": [],
   "source": [
    "# Other list functions\n",
    "names = [\"Alice\", \"Bob\", \"Eve\", \"Joe\", \"Charlie\", \"Dan\"]\n",
    "names.append(\"Frank\")\n",
    "print(names)\n",
    "\n",
    "names.insert(2, \"Grace\")\n",
    "print(names)\n",
    "\n",
    "names.remove(\"Eve\")\n",
    "print(names)\n",
    "\n",
    "names.pop(1)\n",
    "print(names)\n",
    "\n",
    "names.pop()\n",
    "print(names)\n",
    "\n",
    "names.reverse()\n",
    "print(names)\n",
    "\n",
    "names.clear()\n",
    "print(names)\n"
   ]
  },
  {
   "cell_type": "code",
   "execution_count": null,
   "metadata": {},
   "outputs": [],
   "source": [
    "# Copying a list (deep Copy)\n",
    "a = [1, 2, 3]\n",
    "b = a\n",
    "b[2] = 4\n",
    "\n",
    "print(a)"
   ]
  },
  {
   "cell_type": "code",
   "execution_count": null,
   "metadata": {},
   "outputs": [],
   "source": [
    "c = [1, 2, 3]\n",
    "\n",
    "d = c.copy() # shallow copy\n",
    "# OR\n",
    "e = c[:]\n",
    "\n",
    "d[2] = 4\n",
    "e[0] = 5\n",
    "\n",
    "\n",
    "print(c)"
   ]
  },
  {
   "cell_type": "code",
   "execution_count": null,
   "metadata": {},
   "outputs": [],
   "source": [
    "# We can slice a list with the colon operator\n",
    "# The first number is inclusive, the second number is exclusive\n",
    "employee_list = [\"John\", \"Joe\", \"Jim\", \"James\", \"Jack\", \"Jeff\"]\n",
    "\n",
    "\n",
    "print(employee_list[0])\n",
    "print(employee_list[3])\n",
    "print(employee_list[0:3])"
   ]
  },
  {
   "cell_type": "code",
   "execution_count": null,
   "metadata": {},
   "outputs": [],
   "source": [
    "# We slice with a step\n",
    "print(employee_list[0:5:2])"
   ]
  },
  {
   "cell_type": "code",
   "execution_count": null,
   "metadata": {},
   "outputs": [],
   "source": [
    "# We can slice the whole list\n",
    "print(len(employee_list))\n",
    "print(employee_list[0:len(employee_list)])"
   ]
  },
  {
   "cell_type": "code",
   "execution_count": null,
   "metadata": {},
   "outputs": [],
   "source": [
    "# Those values will be implied if left out\n",
    "print(employee_list[:])"
   ]
  },
  {
   "cell_type": "code",
   "execution_count": null,
   "metadata": {},
   "outputs": [],
   "source": [
    "# Reversing a list\n",
    "print(employee_list[::-1])"
   ]
  },
  {
   "cell_type": "code",
   "execution_count": null,
   "metadata": {},
   "outputs": [],
   "source": [
    "# Create a list of the first 50 numbers\n",
    "# Print every even number between 25 and 50\n"
   ]
  },
  {
   "cell_type": "code",
   "execution_count": null,
   "metadata": {},
   "outputs": [],
   "source": [
    "# Tuples\n",
    "my_tuple = (1, 2, 3)\n",
    "print(my_tuple)\n",
    "print(type(my_tuple))\n",
    "\n",
    "print(my_tuple[0])\n",
    "print(my_tuple[-1])"
   ]
  },
  {
   "cell_type": "code",
   "execution_count": null,
   "metadata": {},
   "outputs": [],
   "source": [
    "my_tuple[0] = 4 # Tuples are immutable"
   ]
  },
  {
   "cell_type": "code",
   "execution_count": null,
   "metadata": {},
   "outputs": [],
   "source": [
    "# Strings are sequences\n",
    "alphabet = \"abcdefghijklmnopqrstuvwxyz\"\n",
    "print(alphabet[-1])\n",
    "print()\n",
    "for i in alphabet[:3]:\n",
    "    print(i)"
   ]
  },
  {
   "cell_type": "code",
   "execution_count": null,
   "metadata": {},
   "outputs": [],
   "source": [
    "# Searching strings\n",
    "\n",
    "ip_addresses = \"192.168.1.1, 10.0.0.1, 172.16.0.1, 192.168.100.100, 10.10.10.10\"\n",
    "if \"172.16.0.1\" in ip_addresses:\n",
    "    print(\"Sound the alarm\")"
   ]
  },
  {
   "cell_type": "code",
   "execution_count": null,
   "metadata": {},
   "outputs": [],
   "source": [
    "# String testing\n",
    "password = \"a1b2c3d4\"\n",
    "if password.isalnum():\n",
    "    print(\"Password is alphanumeric\")\n",
    "\n",
    "bad_password = \"A1B2 C3D4$\"\n",
    "if not bad_password.isalnum():\n",
    "    print(\"Password is not alphanumeric\")\n",
    "\n",
    "\n",
    "\n",
    "print(password.isalpha())\n",
    "print(password.isdigit())\n",
    "print(password.islower())\n",
    "print()\n",
    "print(bad_password.isupper())\n",
    "print(bad_password.isspace())\n",
    "print(bad_password.startswith(\"A1\"))\n",
    "\n",
    "print(password.count(\"c\"))"
   ]
  },
  {
   "cell_type": "code",
   "execution_count": null,
   "metadata": {},
   "outputs": [],
   "source": [
    "# String modification (Immutability)\n",
    "username = \"Alice\"\n",
    "username = username.lower()\n",
    "print(username)\n",
    "\n"
   ]
  },
  {
   "cell_type": "code",
   "execution_count": null,
   "metadata": {},
   "outputs": [],
   "source": [
    "username = \"Alice \"\n",
    "print(len(username))\n",
    "username = username.strip()\n",
    "print(len(username))"
   ]
  },
  {
   "cell_type": "code",
   "execution_count": null,
   "metadata": {},
   "outputs": [],
   "source": [
    "urls = [\"www.google.com\", \"www.bing.com\", \"www.wikipedia.org\"]\n",
    "for i in urls:\n",
    "    print(i.lstrip(\"w.\"))"
   ]
  },
  {
   "cell_type": "code",
   "execution_count": null,
   "metadata": {},
   "outputs": [],
   "source": [
    "# Search and Replace\n",
    "sentence = \"The quick brown fox jumps over the lazy dog\"\n",
    "print(sentence.endswith(\"dog\"))\n",
    "print(sentence.startswith(\"The\"))\n",
    "print(sentence.find(\"fox\"))\n",
    "sentence = sentence.replace(\"quick\", \"slow\")\n",
    "\n",
    "print(sentence)\n",
    "\n"
   ]
  },
  {
   "cell_type": "code",
   "execution_count": null,
   "metadata": {},
   "outputs": [],
   "source": [
    "# String splitting\n",
    "\n",
    "csv_formatted_names = \"Alice, Bob, Charlie, David, Eve\"\n",
    "names = csv_formatted_names.split(\", \")\n",
    "print(names)"
   ]
  },
  {
   "cell_type": "code",
   "execution_count": null,
   "metadata": {},
   "outputs": [],
   "source": [
    "# Make a new list of uniform phone numbers\n",
    "\n",
    "phone_numbers = [\"(123) 456-7890 \", \"123-456-7890\", \"#(123)-456-7890\", \"1234567890\", \"123.456.7890\"]\n",
    "uniform_phone_numbers = []\n",
    "\n"
   ]
  },
  {
   "cell_type": "code",
   "execution_count": null,
   "metadata": {},
   "outputs": [],
   "source": [
    "# Sets are unordered collections of unique elements\n",
    "\n",
    "my_set = {1, 1, 2, 2, 3, 3, 4, 4, 5, 5}\n",
    "print(my_set)\n",
    "print(type(my_set))"
   ]
  },
  {
   "cell_type": "code",
   "execution_count": null,
   "metadata": {},
   "outputs": [],
   "source": [
    "# Using the set() function\n",
    "\n",
    "my_set1 = set(\"hello world\")\n",
    "print(my_set1)\n",
    "print(type(my_set1))\n"
   ]
  },
  {
   "cell_type": "code",
   "execution_count": null,
   "metadata": {},
   "outputs": [],
   "source": [
    "# Using the set() with a list\n",
    "\n",
    "my_set2 = set([\"hello\", \"world\"])\n",
    "print(my_set2)\n",
    "print(type(my_set2))"
   ]
  },
  {
   "cell_type": "code",
   "execution_count": null,
   "metadata": {},
   "outputs": [],
   "source": [
    "# Sets largely behave list lists\n",
    "\n",
    "set_of_names = {\"Alice\", \"Bob\", \"Charlie\", \"David\", \"Eve\"}\n",
    "set_of_names.pop()\n",
    "set_of_names.add(\"Frank\")\n",
    "set_of_names.update([\"Grace\", \"Hannah\"])\n",
    "\n",
    "print(set_of_names)"
   ]
  },
  {
   "cell_type": "code",
   "execution_count": null,
   "metadata": {},
   "outputs": [],
   "source": [
    "# Remove vs Discard\n",
    "set_of_names.remove(\"bob\")"
   ]
  },
  {
   "cell_type": "code",
   "execution_count": null,
   "metadata": {},
   "outputs": [],
   "source": [
    "set_of_names.discard(\"bob\")\n",
    "print(set_of_names)"
   ]
  },
  {
   "cell_type": "code",
   "execution_count": null,
   "metadata": {},
   "outputs": [],
   "source": [
    "# Sets are useful for deduplication\n",
    "mailing_list = [\n",
    "    \"alice@example.com\",\n",
    "    \"bob@example.com\",\n",
    "    \"charlie@example.com\",\n",
    "    \"alice@example.com\",\n",
    "    \"dave@example.com\",\n",
    "    \"eve@example.com\",\n",
    "    \"bob@example.com\"\n",
    "]\n",
    "\n",
    "print(len(mailing_list))\n",
    "print(mailing_list)\n",
    "print()\n",
    "\n",
    "unique_emails = set(mailing_list)\n",
    "\n",
    "print(unique_emails)\n",
    "print(len(unique_emails))\n"
   ]
  },
  {
   "cell_type": "code",
   "execution_count": null,
   "metadata": {},
   "outputs": [],
   "source": [
    "# Unions\n",
    "set1 = {1, 2, 3, 4}\n",
    "set2 = {3, 4, 5, 6}\n",
    "\n",
    "union_set = set1 | set2 # OR set1.union(set2)\n",
    "print(union_set)"
   ]
  },
  {
   "cell_type": "code",
   "execution_count": null,
   "metadata": {},
   "outputs": [],
   "source": [
    "# Intersections\n",
    "intersection_set = set1 & set2 # OR set1.intersection(set2)\n",
    "print(intersection_set)"
   ]
  },
  {
   "cell_type": "code",
   "execution_count": null,
   "metadata": {},
   "outputs": [],
   "source": [
    "# Differences\n",
    "difference_set = set1 - set2 # OR set1.difference(set2)\n",
    "print(difference_set)"
   ]
  },
  {
   "cell_type": "code",
   "execution_count": null,
   "metadata": {},
   "outputs": [],
   "source": [
    "# Subsets and Supersets\n",
    "\n",
    "set3 = {\"a\", \"b\", \"c\", \"d\"}\n",
    "set4 = {\"a\", \"b\"}\n",
    "\n",
    "if set4 <= set3:\n",
    "    print(\"set4 is a subset of set3\")\n",
    "\n",
    "if set3 >= set4:\n",
    "    print(\"set3 is a superset of set4\")\n"
   ]
  }
 ],
 "metadata": {
  "kernelspec": {
   "display_name": ".venv",
   "language": "python",
   "name": "python3"
  },
  "language_info": {
   "codemirror_mode": {
    "name": "ipython",
    "version": 3
   },
   "file_extension": ".py",
   "mimetype": "text/x-python",
   "name": "python",
   "nbconvert_exporter": "python",
   "pygments_lexer": "ipython3",
   "version": "3.13.0"
  }
 },
 "nbformat": 4,
 "nbformat_minor": 2
}
